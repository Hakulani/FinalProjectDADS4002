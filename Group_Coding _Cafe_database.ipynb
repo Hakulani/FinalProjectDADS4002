{
 "cells": [
  {
   "cell_type": "markdown",
   "id": "863ec7d5",
   "metadata": {},
   "source": [
    "DADS4002 Final Project</br>\n",
    "Group:Coding</br>\n",
    "Cafe_database</br>\n",
    "Member</br>\n",
    "Latthawan Chantharasukha 6420422015</br>\n",
    "Witsarut Wongsim 6420422017 </br>\n",
    "Pajaya Kanjanakaew 6420422028</br>\n",
    " \n",
    "\n"
   ]
  },
  {
   "cell_type": "markdown",
   "id": "b51b7a2c",
   "metadata": {},
   "source": [
    "# Install Libraly"
   ]
  },
  {
   "cell_type": "code",
   "execution_count": 131,
   "id": "b81b2a42",
   "metadata": {
    "scrolled": true
   },
   "outputs": [
    {
     "name": "stdout",
     "output_type": "stream",
     "text": [
      "Requirement already satisfied: pyodbc in c:\\users\\witsaruw\\anaconda3\\lib\\site-packages (4.0.0-unsupported)\n",
      "Note: you may need to restart the kernel to use updated packages.\n"
     ]
    }
   ],
   "source": [
    "pip install pyodbc"
   ]
  },
  {
   "cell_type": "code",
   "execution_count": 241,
   "id": "63846a2b",
   "metadata": {},
   "outputs": [],
   "source": [
    "#import library\n",
    "import pyodbc"
   ]
  },
  {
   "cell_type": "markdown",
   "id": "760b7d03",
   "metadata": {},
   "source": [
    "# Function"
   ]
  },
  {
   "cell_type": "code",
   "execution_count": 1,
   "id": "d0bf0503",
   "metadata": {
    "scrolled": true
   },
   "outputs": [],
   "source": [
    "#import library\n",
    "import pyodbc\n",
    "#Connection string\n",
    "cnxn = pyodbc.connect('driver=MySQL ODBC 8.0 Unicode Driver;server=127.0.0.1;database=cafe;uid=root;pwd=Acpz5999')\n",
    "#Write function\n",
    "def view_topsale_bystore():\n",
    "    cursor = cnxn.cursor()\n",
    "    cursor.execute(\"SELECT order_record.Store_id,store.Store_name,sum(Amount) as Rev FROM order_record  \\\n",
    "    INNER JOIN store ON store.Store_ID=order_record.Store_id \\\n",
    "    GROUP BY order_record.Store_id ORDER BY 3 DESC\")\n",
    "    row = cursor.fetchone()\n",
    "    print (\"Revenue by Store\")\n",
    "    while row:        \n",
    "        print (row) \n",
    "        row = cursor.fetchone()\n",
    "#View\n",
    "def get_viewlastorder():\n",
    "    cursor = cnxn.cursor()\n",
    "    cursor.execute(\"SELECT * FROM  order_record ORDER BY order_no desc limit 1\") \n",
    "    row = cursor.fetchone() \n",
    "    while row:\n",
    "        print (row) \n",
    "        row = cursor.fetchone()\n",
    "        \n",
    "def get_viewmenu():\n",
    "    cursor = cnxn.cursor()\n",
    "    cursor.execute(\"SELECT * FROM  menu\") \n",
    "    row = cursor.fetchone() \n",
    "    while row:\n",
    "        print (row) \n",
    "        row = cursor.fetchone()\n",
    "        \n",
    "def get_viewcustomer():\n",
    "    cursor = cnxn.cursor()\n",
    "    cursor.execute(\"SELECT * FROM  customer\") \n",
    "    row = cursor.fetchone() \n",
    "    while row:\n",
    "        print (row) \n",
    "        row = cursor.fetchone()\n",
    "        \n",
    "def get_viewstore():\n",
    "    cursor = cnxn.cursor()\n",
    "    cursor.execute(\"SELECT * FROM  store\") \n",
    "    row = cursor.fetchone() \n",
    "    while row:\n",
    "        print (row) \n",
    "        row = cursor.fetchone()\n",
    "        \n",
    "def get_vieworder():\n",
    "    cursor = cnxn.cursor()\n",
    "    cursor.execute(\"SELECT * FROM  order_record\") \n",
    "    row = cursor.fetchone() \n",
    "    while row:\n",
    "        print (row) \n",
    "        row = cursor.fetchone()\n",
    "def view_customer_menu(customer_id):\n",
    "    cursor = cnxn.cursor()\n",
    "    cursor.execute(\"SELECT order_record.menu_id , menu.menu_name, count(order_record.menu_id) as countmenu \\\n",
    "FROM order_record  \\\n",
    "JOIN menu ON menu.menu_ID=order_record.menu_id \\\n",
    "WHERE customer_id=? \\\n",
    "GROUP BY order_record.menu_id ORDER BY 3 DESC \",(customer_id))\n",
    "    row = cursor.fetchone()\n",
    "    print (\"customer menu\")\n",
    "    while row:        \n",
    "        print (row) \n",
    "        row = cursor.fetchone()"
   ]
  },
  {
   "cell_type": "code",
   "execution_count": 2,
   "id": "194fc599",
   "metadata": {},
   "outputs": [],
   "source": [
    "def get_store():\n",
    "    ID=False\n",
    "    store_id=input(\"'Store_id 4 digit Cxxx:'\")\n",
    "    while ID==False:\n",
    "        cursor = cnxn.cursor()\n",
    "        cursor.execute(\"SELECT * FROM store WHERE store_id=?\",(store_id))\n",
    "        row = cursor.fetchone()\n",
    "        if row!=None:\n",
    "            return (store_id)\n",
    "        else:\n",
    "            print(\"store_ID not in list\")\n",
    "            store_id=input(\"Plaese Enter Store ID agian:\")\n",
    "            \n",
    "def get_storename(store_id):\n",
    "    cursor = cnxn.cursor()\n",
    "    cursor.execute(\"SELECT store_name FROM store WHERE store_id=?\",(store_id))\n",
    "    row = cursor.fetchone()\n",
    "    while row:\n",
    "        name=row[0]\n",
    "        row = cursor.fetchone()\n",
    "        print('name:',name)\n",
    "        return(name)\n",
    "    \n",
    "def get_store_province(store_id):\n",
    "    cursor = cnxn.cursor()\n",
    "    cursor.execute(\"SELECT store_province FROM store WHERE store_id=?\",(store_id))\n",
    "    row = cursor.fetchone()\n",
    "    while row:\n",
    "        name=row[0]\n",
    "        row = cursor.fetchone()\n",
    "        print('province:',name)\n",
    "        return(name)"
   ]
  },
  {
   "cell_type": "code",
   "execution_count": 3,
   "id": "aaeacda8",
   "metadata": {},
   "outputs": [],
   "source": [
    "def get_menu():\n",
    "    ID=False\n",
    "    menu_id=input(\"Menu ID 4number xxxx:\")\n",
    "    while ID==False:\n",
    "        \n",
    "        cursor = cnxn.cursor()\n",
    "        cursor.execute(\"SELECT * FROM menu WHERE menu_id=?\",(menu_id))\n",
    "        row = cursor.fetchone()\n",
    "        if row!=None:\n",
    "            ID=True\n",
    "            return (menu_id)\n",
    "        else:\n",
    "            print(\"Menu ID not in list\")\n",
    "            menu_id=input(\"Plaese Enter Menu ID agian:\")\n",
    "    \n",
    "def get_menuprice(menu_id):\n",
    "    cursor = cnxn.cursor()\n",
    "    cursor.execute(\"SELECT menu_SellingPrice FROM menu WHERE menu_id=?\",(menu_id))\n",
    "    row = cursor.fetchone()\n",
    "    while row:\n",
    "        price=row[0]\n",
    "        row = cursor.fetchone()\n",
    "        print('price:',price)\n",
    "        return(price)       \n",
    "def get_menuname(menu_id):\n",
    "    cursor = cnxn.cursor()\n",
    "    cursor.execute(\"SELECT menu_name FROM menu WHERE menu_id=?\",(menu_id))\n",
    "    row = cursor.fetchone()\n",
    "    while row:\n",
    "        name=row[0]\n",
    "        row = cursor.fetchone()\n",
    "        print('name:',name)\n",
    "        return(name)\n",
    "def get_cost(menu_id):\n",
    "    cursor = cnxn.cursor()\n",
    "    cursor.execute(\"SELECT menu_cost FROM menu WHERE menu_id=?\",(menu_id))\n",
    "    row = cursor.fetchone()\n",
    "    while row:\n",
    "        cost=row[0]\n",
    "        row = cursor.fetchone()\n",
    "        print('cost:',cost)\n",
    "        return(cost)  \n",
    "def get_member():\n",
    "    CUS_ID=False\n",
    "    customer_id=input(\"customer_id 4number xxxx:\")\n",
    "    if customer_id=='':\n",
    "        customer_id='0000'\n",
    "        return (customer_id)\n",
    "    else:\n",
    "        while CUS_ID==False:\n",
    "            cursor = cnxn.cursor()\n",
    "            cursor.execute(\"SELECT * FROM customer WHERE customer_id=?\",(customer_id))\n",
    "            row = cursor.fetchone()\n",
    "            if row!=None:\n",
    "                return (customer_id)\n",
    "            else:\n",
    "                print(\"customer id ID not in list\")\n",
    "                customer_id=input(\"Plaese Enter customer_id agian:\")  \n",
    "def get_cusfirstname(customer_id):\n",
    "    \n",
    "    cursor = cnxn.cursor()\n",
    "    cursor.execute(\"SELECT customer_firstname FROM customer WHERE customer_id=?\",(customer_id))\n",
    "    row = cursor.fetchone()\n",
    "    if row!=None:\n",
    "        print(row[0])\n",
    "        return (row[0])\n",
    "          \n",
    "def get_cuslastname(customer_id):\n",
    "    \n",
    "    cursor = cnxn.cursor()\n",
    "    cursor.execute(\"SELECT customer_lastname FROM customer WHERE customer_id=?\",(customer_id))\n",
    "    row = cursor.fetchone()\n",
    "    if row!=None:\n",
    "        print(row[0])\n",
    "        return (row[0])  \n",
    "    \n",
    "def get_customerage(customer_id):\n",
    "    \n",
    "    cursor = cnxn.cursor()\n",
    "    cursor.execute(\"SELECT customer_age FROM customer WHERE customer_id=?\",(customer_id))\n",
    "    row = cursor.fetchone()\n",
    "    if row!=None:\n",
    "        print(row[0])\n",
    "        return (row[0]) \n",
    "       \n",
    "def get_discount(customer_id):\n",
    "    if customer_id!='0000':\n",
    "        discount=(quantity*price)*0.1\n",
    "        order_point=1\n",
    "        print('discount',discount)\n",
    "        return (discount,order_point)\n",
    "    else:\n",
    "        discount=0\n",
    "        order_point=0\n",
    "        print('no discount',discount)\n",
    "        return(discount,order_point)\n",
    "def get_orderno():\n",
    "        \n",
    "    cursor = cnxn.cursor()\n",
    "    cursor.execute(\"SELECT Order_NO FROM menu \")\n",
    "    row = cursor.fetchone()\n",
    "    while row:\n",
    "        price=row[0]\n",
    "        row = cursor.fetchone()\n",
    "        print('price:',price)\n",
    "        return(price) \n",
    "def get_profit():\n",
    "    amount=(price*quantity-discount) \n",
    "    profit= amount-(cost*quantity)\n",
    "    return (profit,amount)\n",
    "def print_slip():\n",
    "    print('********************************')\n",
    "    print('customer ID',customer_id)\n",
    "    print('menu:',name)\n",
    "    print('Quantity',quantity)\n",
    "    print('Price',price)\n",
    "    print('Total before discount',price*quantity)\n",
    "    print('Discount',discount)\n",
    "    print('Amount',amount)\n",
    "    print('Point',order_point)\n",
    "    get_customerpoint(customer_id)\n",
    "    print('********************************')\n",
    "\n",
    "def get_customerpoint(customer_id):\n",
    "    cursor = cnxn.cursor()\n",
    "    cursor.execute(\" SELECT customer_id , SUM(order_point) From order_record WHERE customer_id=? \",(customer_id))\n",
    "    row = cursor.fetchone()\n",
    "    while row:        \n",
    "        a,b=row\n",
    "        row = cursor.fetchone()\n",
    "        return (print(\"Customer point:\",b))\n",
    "\n",
    "def get_royalty():\n",
    "    cursor = cnxn.cursor()\n",
    "    cursor.execute(\" SELECT customer_id ,SUM(order_point) as accpoint \\\n",
    "                   From order_record \\\n",
    "                   GROUP By customer_id \\\n",
    "                   order by accpoint desc limit 10 \")\n",
    "    row = cursor.fetchone()\n",
    "    cus=[]\n",
    "    while row:\n",
    "        print(row)\n",
    "        row = cursor.fetchone()\n",
    "\n",
    "\n",
    "def get_royalty_list():\n",
    "    cursor = cnxn.cursor()\n",
    "    cursor.execute(\" SELECT customer_id ,SUM(order_point) as accpoint \\\n",
    "                   From order_record \\\n",
    "                   GROUP By customer_id \\\n",
    "                   order by accpoint desc limit 11 \")\n",
    "    row = cursor.fetchone()\n",
    "    cus=[]\n",
    "    while row:\n",
    "        row = cursor.fetchone()\n",
    "        cus.append(row)\n",
    "    return(cus)\n",
    "  \n",
    "\n",
    "def royalty_list():\n",
    "    id_list=get_royalty_list()\n",
    "    royalty_list=[]\n",
    "    i=0\n",
    "    for i in range (len(id_list)-1):\n",
    "        royalty_list.append(id_list[i][0])\n",
    "    return (royalty_list)\n",
    "def fav_rayalty_menu(): \n",
    "    id_list=get_royalty_list()\n",
    "    i=0\n",
    "    for i in range (len(id_list)-1):\n",
    "        print(id_list[i][0],\"\\n\",view_customer_menu(id_list[i][0]))      "
   ]
  },
  {
   "cell_type": "markdown",
   "id": "5657948d",
   "metadata": {},
   "source": [
    "# View Table"
   ]
  },
  {
   "cell_type": "markdown",
   "id": "17ad7520",
   "metadata": {},
   "source": [
    "order_record"
   ]
  },
  {
   "cell_type": "code",
   "execution_count": 242,
   "id": "b5b58b5d",
   "metadata": {
    "scrolled": true
   },
   "outputs": [
    {
     "name": "stdout",
     "output_type": "stream",
     "text": [
      "(1, datetime.datetime(2022, 5, 21, 16, 45, 38), 1, '0002', '0003', 5.5, 24.5, 49.5, 1, 'C023')\n",
      "(2, datetime.datetime(2022, 5, 21, 16, 46, 9), 1, '0001', '0003', 3.5, 11.5, 31.5, 1, 'C022')\n",
      "(3, datetime.datetime(2022, 5, 21, 16, 46, 24), 1, '0004', '0003', 4.5, 15.5, 40.5, 1, 'C023')\n",
      "(4, datetime.datetime(2022, 5, 21, 16, 46, 52), 1, '0001', '0001', 3.5, 11.5, 31.5, 1, 'C001')\n",
      "(5, datetime.datetime(2022, 5, 21, 16, 47, 11), 1, '0004', '0000', 0.0, 20.0, 45.0, 0, 'C023')\n",
      "(6, datetime.datetime(2022, 5, 21, 16, 48, 27), 1, '0003', '0005', 6.0, 24.0, 54.0, 1, 'C020')\n",
      "(7, datetime.datetime(2022, 5, 21, 16, 54, 12), 2, '0002', '0001', 11.0, 49.0, 99.0, 1, 'C022')\n",
      "(8, datetime.datetime(2022, 5, 21, 17, 18, 5), 1, '0001', '0006', 3.5, 11.5, 31.5, 1, 'C002')\n",
      "(9, datetime.datetime(2022, 5, 21, 17, 21, 5), 1, '0010', '0006', 5.0, 15.0, 45.0, 1, 'C002')\n",
      "(10, datetime.datetime(2022, 5, 21, 17, 22), 1, '0008', '0007', 5.5, 14.5, 49.5, 1, 'C002')\n",
      "(11, datetime.datetime(2022, 5, 21, 17, 22, 22), 1, '0007', '0007', 5.0, 15.0, 45.0, 1, 'C002')\n",
      "(12, datetime.datetime(2022, 5, 21, 17, 22, 56), 1, '0002', '0007', 5.5, 24.5, 49.5, 1, 'C002')\n",
      "(13, datetime.datetime(2022, 5, 21, 17, 23, 15), 1, '0036', '0008', 5.0, 15.0, 45.0, 1, 'C003')\n",
      "(14, datetime.datetime(2022, 5, 21, 17, 23, 42), 1, '0044', '0008', 5.0, 20.0, 45.0, 1, 'C003')\n",
      "(15, datetime.datetime(2022, 5, 21, 17, 24, 7), 1, '0045', '0009', 4.5, 20.5, 40.5, 1, 'C003')\n",
      "(16, datetime.datetime(2022, 5, 21, 17, 24, 30), 1, '0049', '0009', 5.0, 20.0, 45.0, 1, 'C003')\n",
      "(17, datetime.datetime(2022, 5, 21, 17, 27, 7), 1, '0051', '0011', 10.0, 30.0, 90.0, 1, 'C004')\n",
      "(18, datetime.datetime(2022, 5, 21, 17, 27, 35), 1, '0052', '0012', 15.0, 45.0, 135.0, 1, 'C004')\n",
      "(19, datetime.datetime(2022, 5, 21, 17, 28, 6), 1, '0053', '0016', 15.5, 59.5, 139.5, 1, 'C004')\n",
      "(20, datetime.datetime(2022, 5, 21, 17, 28, 39), 1, '0054', '0018', 12.0, 28.0, 108.0, 1, 'C005')\n",
      "(21, datetime.datetime(2022, 5, 21, 17, 29, 1), 1, '0056', '0019', 12.0, 8.0, 108.0, 1, 'C006')\n",
      "(22, datetime.datetime(2022, 5, 21, 17, 29, 37), 1, '0055', '0020', 15.0, 35.0, 135.0, 1, 'C004')\n",
      "(23, datetime.datetime(2022, 5, 21, 17, 30, 6), 1, '0057', '0022', 15.0, 15.0, 135.0, 1, 'C005')\n",
      "(24, datetime.datetime(2022, 5, 21, 17, 30, 34), 1, '0058', '0024', 12.0, 28.0, 108.0, 1, 'C005')\n",
      "(25, datetime.datetime(2022, 5, 21, 17, 30, 54), 1, '0059', '0026', 15.0, 35.0, 135.0, 1, 'C006')\n",
      "(26, datetime.datetime(2022, 5, 21, 17, 31, 18), 1, '0061', '0029', 2.5, 2.5, 22.5, 1, 'C004')\n",
      "(27, datetime.datetime(2022, 5, 21, 17, 31, 36), 1, '0062', '0020', 5.0, 15.0, 45.0, 1, 'C005')\n",
      "(28, datetime.datetime(2022, 5, 28, 20, 48, 58), 2, '0001', '0001', 7.0, 23.0, 63.0, 1, 'C001')\n",
      "(29, datetime.datetime(2022, 5, 28, 20, 51, 47), 2, '0001', '0001', 7.0, 23.0, 63.0, 1, 'C001')\n",
      "(30, datetime.datetime(2022, 5, 28, 20, 55, 13), 2, '0001', '0002', 7.0, 23.0, 63.0, 1, 'C002')\n",
      "(31, datetime.datetime(2022, 5, 28, 20, 56, 53), 1, '0004', '0001', 4.5, 15.5, 40.5, 1, 'C002')\n",
      "(32, datetime.datetime(2022, 5, 28, 21, 2, 59), 2, '0001', '0005', 7.0, 23.0, 63.0, 1, 'C001')\n",
      "(33, datetime.datetime(2022, 5, 28, 21, 5, 26), 2, '0004', '0004', 9.0, 31.0, 81.0, 1, 'C001')\n",
      "(34, datetime.datetime(2022, 5, 28, 21, 12, 22), 4, '0004', '0004', 18.0, 62.0, 162.0, 1, 'C004')\n",
      "(35, datetime.datetime(2022, 5, 28, 21, 13, 4), 3, '0003', '0004', 18.0, 72.0, 162.0, 1, 'C004')\n"
     ]
    }
   ],
   "source": [
    "get_vieworder()"
   ]
  },
  {
   "cell_type": "markdown",
   "id": "b119be9f",
   "metadata": {},
   "source": [
    "menu"
   ]
  },
  {
   "cell_type": "code",
   "execution_count": 243,
   "id": "06af8711",
   "metadata": {
    "scrolled": true
   },
   "outputs": [
    {
     "name": "stdout",
     "output_type": "stream",
     "text": [
      "('0001', 'Espresso', 35, 20, 'Hot', 'Coffee')\n",
      "('0002', 'Espresso', 55, 29, 'Cold', 'Coffee')\n",
      "('0003', 'Espresso', 60, 30, 'Frappe', 'Coffee')\n",
      "('0004', 'Espresso Con Panna', 45, 25, 'Hot', 'Coffee')\n",
      "('0005', 'Espresso Con Panna', 65, 30, 'Cold', 'Coffee')\n",
      "('0006', 'Espresso Con Panna', 70, 35, 'Frappe', 'Coffee')\n",
      "('0007', 'Americano', 50, 30, 'Hot', 'Coffee')\n",
      "('0008', 'Americano', 55, 35, 'Cold', 'Coffee')\n",
      "('0009', 'Americano', 60, 40, 'Frappe', 'Coffee')\n",
      "('0010', 'Long Black', 50, 30, 'Hot', 'Coffee')\n",
      "('0011', 'Long Black', 55, 35, 'Cold', 'Coffee')\n",
      "('0012', 'Long Black', 60, 40, 'Frappe', 'Coffee')\n",
      "('0013', 'Latte', 50, 30, 'Hot', 'Coffee')\n",
      "('0014', 'Latte', 65, 35, 'Cold', 'Coffee')\n",
      "('0015', 'Latte', 70, 40, 'Frappe', 'Coffee')\n",
      "('0016', 'Piccolo', 50, 20, 'Hot', 'Coffee')\n",
      "('0017', 'Piccolo', 55, 25, 'Cold', 'Coffee')\n",
      "('0018', 'Piccolo', 60, 30, 'Frappe', 'Coffee')\n",
      "('0019', 'Cappuccino', 45, 25, 'Hot', 'Coffee')\n",
      "('0020', 'Cappuccino', 60, 30, 'Cold', 'Coffee')\n",
      "('0021', 'Cappuccino', 65, 35, 'Frappe', 'Coffee')\n",
      "('0022', 'Mocha', 50, 25, 'Hot', 'Coffee')\n",
      "('0023', 'Mocha', 60, 30, 'Cold', 'Coffee')\n",
      "('0024', 'Mocha', 70, 35, 'Frappe', 'Coffee')\n",
      "('0025', 'White Mocha', 55, 30, 'Hot', 'Coffee')\n",
      "('0026', 'White Mocha', 65, 35, 'Cold', 'Coffee')\n",
      "('0027', 'White Mocha', 75, 40, 'Frappe', 'Coffee')\n",
      "('0028', 'Macchiato', 50, 25, 'Hot', 'Coffee')\n",
      "('0029', 'Macchiato', 60, 30, 'Cold', 'Coffee')\n",
      "('0030', 'Macchiato', 70, 35, 'Frappe', 'Coffee')\n",
      "('0031', 'Caramel Macchiato', 55, 30, 'Hot', 'Coffee')\n",
      "('0032', 'Caramel Macchiato', 65, 35, 'Cold', 'Coffee')\n",
      "('0033', 'Caramel Macchiato', 75, 40, 'Frappe', 'Coffee')\n",
      "('0034', 'Italian soda', 50, 20, 'Cold', 'Coffee')\n",
      "('0035', 'Chocolate', 45, 25, 'Hot', 'Coffee')\n",
      "('0036', 'Chocolate', 50, 30, 'Cold', 'Coffee')\n",
      "('0037', 'Chocolate', 55, 35, 'Frappe', 'Coffee')\n",
      "('0038', 'Dark Chocolate', 50, 30, 'Hot', 'Milk-Chocolate')\n",
      "('0039', 'Dark Chocolate', 55, 35, 'Cold', 'Milk-Chocolate')\n",
      "('0040', 'Dark Chocolate', 60, 40, 'Frappe', 'Milk-Chocolate')\n",
      "('0042', 'Green Tea', 40, 15, 'Hot', 'Tea')\n",
      "('0043', 'Green Tea', 45, 20, 'Cold', 'Tea')\n",
      "('0044', 'Green Tea', 50, 25, 'Frappe', 'Tea')\n",
      "('0045', 'Milk Tea', 45, 20, 'Hot', 'Tea')\n",
      "('0046', 'Milk Tea', 50, 25, 'Cold', 'Tea')\n",
      "('0047', 'Milk Tea', 55, 30, 'Frappe', 'Tea')\n",
      "('0048', 'Thai Tea', 45, 20, 'Hot', 'Tea')\n",
      "('0049', 'Thai Tea', 50, 25, 'Cold', 'Tea')\n",
      "('0050', 'Thai Tea', 55, 30, 'Frappe', 'Tea')\n",
      "('0051', 'Mango Sticky Rice', 100, 60, 'Dessert', 'Dessert')\n",
      "('0052', 'Strawberry Pancake', 150, 90, 'Dessert', 'Dessert')\n",
      "('0053', 'Choc Banana Pancake', 155, 80, 'Dessert', 'Dessert')\n",
      "('0054', 'Macaron', 120, 80, 'Dessert', 'Dessert')\n",
      "('0055', 'Pudding', 150, 100, 'Dessert', 'Dessert')\n",
      "('0056', 'Butter Cake', 120, 100, 'Dessert', 'Dessert')\n",
      "('0057', 'Whole Wheat Bread', 150, 120, 'Dessert', 'Dessert')\n",
      "('0058', 'strawberry cheese pie', 120, 80, 'Dessert', 'Dessert')\n",
      "('0059', 'Blueberry Cheese Pie', 150, 100, 'Dessert', 'Dessert')\n",
      "('0060', 'Honey Toast', 150, 80, 'Dessert', 'Dessert')\n",
      "('0061', 'Toast', 25, 20, 'Dessert', 'Dessert')\n",
      "('0062', 'Waffle', 50, 30, 'Dessert', 'Dessert')\n",
      "('0063', 'Cheese cake', 125, 80, 'Dessert', 'Dessert')\n",
      "('0064', 'Custard Cake', 60, 40, 'Dessert', 'Dessert')\n",
      "('0065', 'Cookie', 150, 90, 'Dessert', 'Dessert')\n",
      "('0066', 'Brownie', 80, 50, 'Dessert', 'Dessert')\n",
      "('0067', 'Pancake', 40, 20, 'Dessert', 'Dessert')\n",
      "('0068', 'Banana Cake', 40, 20, 'Dessert', 'Dessert')\n",
      "('0069', 'Muffin', 90, 30, 'Dessert', 'Dessert')\n",
      "('0070', 'Roll Cake', 50, 30, 'Dessert', 'Dessert')\n",
      "('0071', 'Basque Cheesecake', 250, 100, 'Dessert', 'Dessert')\n",
      "('0072', 'Pie', 50, 30, 'Dessert', 'Dessert')\n",
      "('0073', 'Mango', 80, 60, 'Frappe', 'Smoothies')\n"
     ]
    }
   ],
   "source": [
    "get_viewmenu()"
   ]
  },
  {
   "cell_type": "code",
   "execution_count": 244,
   "id": "6059ce72",
   "metadata": {
    "scrolled": true
   },
   "outputs": [
    {
     "name": "stdout",
     "output_type": "stream",
     "text": [
      "('0000', 'No member', 'No member', 0, 'no')\n",
      "('0001', 'จารุวรรณ', 'เหลืองสีนวล', 21, 'หญิง')\n",
      "('0002', 'ศิรินทิพย์', 'ชัยชนะ', 14, 'ชาย')\n",
      "('0003', 'ณัฐมน', 'สุขเกษม', 37, 'หญิง')\n",
      "('0004', 'เจษฎา', 'กอวังตะโก', 31, 'หญิง')\n",
      "('0005', 'จุฑาทิพย์', 'ชาญศิริ', 34, 'หญิง')\n",
      "('0006', 'สุพรรษา', 'ประเสริฐสม', 30, 'หญิง')\n",
      "('0007', 'นูรีซัน', 'สุขสันต์', 29, 'หญิง')\n",
      "('0008', 'วลัยลักษณ์', 'สัตถาผล', 28, 'หญิง')\n",
      "('0009', 'เบญจมาภรณ์', 'หมูนสี', 27, 'หญิง')\n",
      "('0010', 'ฉันชนก', 'เชิญขวัญ', 26, 'หญิง')\n",
      "('0011', 'ธันยพร', 'หะพันธ์', 25, 'หญิง')\n",
      "('0012', 'อารีรัตน์', 'ศิริพันธ์', 24, 'หญิง')\n",
      "('0013', 'สุนิสา', 'ศุขห่วง', 23, 'หญิง')\n",
      "('0014', 'เกวลิน', 'จูเปาะ', 22, 'หญิง')\n",
      "('0015', 'กัญญารัตน์', 'ประสพสุข', 21, 'หญิง')\n",
      "('0016', 'จิรัชญา', 'เสนานุช', 20, 'หญิง')\n",
      "('0017', 'พรรธิดา', 'สืบจันทร์', 19, 'หญิง')\n",
      "('0018', 'จุฑาทิพย์', 'วัณเพชร', 17, 'หญิง')\n",
      "('0019', 'อุสรา', 'เจ็กแตงพะเนา', 37, 'หญิง')\n",
      "('0020', 'กัลยา', 'พานทอง', 31, 'หญิง')\n",
      "('0021', 'รจนา', 'ขวัญเมือง', 34, 'ชาย')\n",
      "('0022', 'กัณฑิมา', 'รามมีชัย', 30, 'ชาย')\n",
      "('0023', 'กาญจนา', 'นาสร้อย', 29, 'ชาย')\n",
      "('0024', 'พอฤทัย', 'ลาภผล', 28, 'ชาย')\n",
      "('0025', 'วราภรณ์', 'แซ่ลิ่ม', 27, 'ชาย')\n",
      "('0026', 'ธิดารัตน์', 'วงศ์เสน', 26, 'หญิง')\n",
      "('0027', 'กรรณิการ์', 'คงอาษา', 25, 'ชาย')\n",
      "('0028', 'แอนนา', 'สมบูรณ์สิงห์', 24, 'ชาย')\n",
      "('0029', 'วริศรา', 'วงเวียน', 23, 'ชาย')\n",
      "('0030', 'ภัสสร', 'ศรีน้ำเงิน', 17, 'ชาย')\n",
      "('0031', 'ปภัต', 'สำรวม', 40, 'ชาย')\n",
      "('0032', 'พิม', 'แพรว', 12, 'หญิง')\n",
      "('0033', 'มานี', 'มานา', 14, 'ชาย')\n"
     ]
    }
   ],
   "source": [
    "get_viewcustomer()"
   ]
  },
  {
   "cell_type": "code",
   "execution_count": 245,
   "id": "ab0c35ca",
   "metadata": {},
   "outputs": [
    {
     "name": "stdout",
     "output_type": "stream",
     "text": [
      "('C001', \"Coffee's เซ็นทรัลพระราม3\", 'กรุงเทพมหานคร')\n",
      "('C002', \"Coffee's เซ็นทรัลพระราม9\", 'กรุงเทพมหานคร')\n",
      "('C003', \"Coffee's Centralนครราชสีมา\", 'นครราชสีมา')\n",
      "('C004', \"Coffee's เซ็นทรัลศรีราชา\", 'ชลบุรี')\n",
      "('C005', \"Coffee's เซ็นทรัลอยุธยา\", 'พระนครศรีอยุธยา')\n",
      "('C006', \"Coffee's Centralมหาชัย\", 'สมุทรสาคร')\n",
      "('C007', \"Coffee's เซ็นทรัลเชียงใหม่\", 'เชียงใหม่')\n",
      "('C008', \"Coffee's UnitedCenter(สีลม)\", 'กรุงเทพมหานคร')\n",
      "('C009', \"Coffee's สยามเซ็นเตอร์\", 'กรุงเทพมหานคร')\n",
      "('C010', \"Coffee's เซ็นจูรี่อนุสาวรีย์\", 'กรุงเทพมหานคร')\n",
      "('C011', \"Coffee's CentralWestgateบางใหญ่\", 'กรุงเทพมหานคร')\n",
      "('C012', \"Coffee's เซ็นทรัลเวิลด์\", 'กรุงเทพมหานคร')\n",
      "('C013', \"Coffee's CenterOneอนุสาวรีย์ชัยสมรภูมิ\", 'กรุงเทพมหานคร')\n",
      "('C014', \"Coffee's Centralสุราษฎร์ธานี\", 'สุราษฎร์ธานี')\n",
      "('C015', \"Coffee's Centralนครศรีธรรมราช\", 'นครศรีธรรมราช')\n",
      "('C016', \"Coffee's เซ็นทรัลลาดพร้าวชั้นG\", 'กรุงเทพมหานคร')\n",
      "('C017', \"Coffee's บิ๊กซีศรีนครินทร์\", 'สมุทรปราการ')\n",
      "('C018', \"Coffee's บิ๊กซีพัทยาใต้\", 'ชลบุรี')\n",
      "('C019', \"Coffee's บิ๊กซีอยุธยา\", 'พระนครศรีอยุธยา')\n",
      "('C020', \"Coffee's บิ๊กซีสุขาภิบาล3\", 'กรุงเทพมหานคร')\n",
      "('C021', \"Coffee's บิ๊กซีพระราม4\", 'กรุงเทพมหานคร')\n",
      "('C022', \"Coffee's บิ๊กซีราชดำริ\", 'กรุงเทพมหานคร')\n",
      "('C023', \"Coffee's บิ๊กซีนครปฐม\", 'นครปฐม')\n",
      "('C024', \"Coffe's บิ๊กซีมหาชัย\", 'สมุทรสาคร')\n",
      "('C025', \"Coffee's บิ๊กซีสุขาภิบาล5\", 'กรุงเทพมหานคร')\n",
      "('C026', \"Coffee's บิ๊กซีเชียงราย2\", 'เชียงราย')\n",
      "('C027', \"Coffee's บิ๊กซีบางพลี\", 'สมุทรปราการ')\n",
      "('C028', \"Coffee's บิ๊กซีเพชรเกษมextra\", 'กรุงเทพมหานคร')\n",
      "('C029', \"Coffee's ทาวน์เซ็นเตอร์บิ๊กซีหัวหมาก\", 'กรุงเทพมหานคร')\n",
      "('C030', \"Coffee's บิ๊กซีบางใหญ่\", 'นนทบุรี')\n",
      "('C031', \"Coffee's บิ๊กซีบางซื่อ\", 'กรุงเทพมหานคร')\n"
     ]
    }
   ],
   "source": [
    "get_viewstore()"
   ]
  },
  {
   "cell_type": "code",
   "execution_count": 16,
   "id": "67752b6f",
   "metadata": {},
   "outputs": [],
   "source": [
    "def insert_order(datetime,quantity,menu_id,customer_id,discount,profit,amount,order_point,store_id):\n",
    "    cursor = cnxn.cursor()\n",
    "    cursor.execute(\"INSERT INTO order_record \\\n",
    "    (Datetime,Quantity, Menu_id, Customer_id,Discount,Profit,Amount,Order_point,Store_id)\\\n",
    "    VALUES (?,?,?,?,?,?,?,?,?)\",(datetime,quantity,menu_id,customer_id,discount,profit,amount,order_point,store_id))\n",
    "    cnxn.commit()\n",
    "def get_datetime():\n",
    "    from datetime import datetime\n",
    "    now = datetime.now()\n",
    "    current_time = now.strftime(\"%Y-%m-%d %H:%M:%S\") \n",
    "    print(current_time)\n",
    "    return (current_time)"
   ]
  },
  {
   "cell_type": "markdown",
   "id": "a06ce6ae",
   "metadata": {},
   "source": [
    "#  Add order"
   ]
  },
  {
   "cell_type": "code",
   "execution_count": 246,
   "id": "9cd901b2",
   "metadata": {},
   "outputs": [
    {
     "name": "stdout",
     "output_type": "stream",
     "text": [
      "2022-05-28 23:08:52\n",
      "Menu ID 4number xxxx:0003\n",
      "Quantity:2\n",
      "price: 60\n",
      "name: Espresso\n",
      "cost: 30\n",
      "customer_id 4number xxxx:0002\n",
      "discount 12.0\n",
      "'Store_id 4 digit Cxxx:'C002\n",
      "********************************\n",
      "customer ID 0002\n",
      "menu: Espresso\n",
      "Quantity 2\n",
      "Price 60\n",
      "Total before discount 120\n",
      "Discount 12.0\n",
      "Amount 108.0\n",
      "Point 1\n",
      "Customer point: 2\n",
      "********************************\n",
      "(36, datetime.datetime(2022, 5, 28, 23, 8, 52), 2, '0003', '0002', 12.0, 48.0, 108.0, 1, 'C002')\n",
      "more order? yes or noyes\n",
      "2022-05-28 23:10:27\n",
      "Menu ID 4number xxxx:0004\n",
      "Quantity:1\n",
      "price: 45\n",
      "name: Espresso Con Panna\n",
      "cost: 25\n",
      "customer_id 4number xxxx:0000\n",
      "no discount 0\n",
      "'Store_id 4 digit Cxxx:'C002\n",
      "********************************\n",
      "customer ID 0000\n",
      "menu: Espresso Con Panna\n",
      "Quantity 1\n",
      "Price 45\n",
      "Total before discount 45\n",
      "Discount 0\n",
      "Amount 45\n",
      "Point 0\n",
      "Customer point: 0\n",
      "********************************\n",
      "(37, datetime.datetime(2022, 5, 28, 23, 10, 27), 1, '0004', '0000', 0.0, 20.0, 45.0, 0, 'C002')\n",
      "more order? yes or nono\n"
     ]
    }
   ],
   "source": [
    "x='yes'\n",
    "while x.lower()=='yes':\n",
    "    from datetime import datetime\n",
    "    def get_datetime():\n",
    "        now = datetime.now()\n",
    "        current_time = now.strftime(\"%Y-%m-%d %H:%M:%S\") \n",
    "        print(current_time)\n",
    "        return (current_time)\n",
    "    datetime=get_datetime()\n",
    "    menu_id=get_menu()\n",
    "    quantity=int(input('Quantity:'))\n",
    "    price=get_menuprice(menu_id)\n",
    "    name=get_menuname(menu_id)\n",
    "    cost=get_cost(menu_id) \n",
    "    customer_id=get_member()\n",
    "    discount,order_point=get_discount(customer_id)\n",
    "    profit,amount=get_profit()\n",
    "    store_id=get_store()\n",
    "    insert_order(datetime,quantity,menu_id,customer_id,discount,profit,amount,order_point,store_id)\n",
    "    print_slip()\n",
    "    get_viewlastorder()\n",
    "    x=input(\"more order? yes or no\")\n",
    "    while x!='yes' and x!='no':\n",
    "        x=input(\"more order? yes or no\")\n",
    "        \n",
    "    "
   ]
  },
  {
   "cell_type": "markdown",
   "id": "5653b237",
   "metadata": {},
   "source": [
    "# Add menu"
   ]
  },
  {
   "cell_type": "code",
   "execution_count": 29,
   "id": "0984ff68",
   "metadata": {},
   "outputs": [],
   "source": [
    "def add_menu():\n",
    "    cursor = cnxn.cursor()\n",
    "    cursor.execute(\"SELECT max(menu_id) FROM menu\")\n",
    "    row = cursor.fetchone()\n",
    "    print('Last id:',row[0]) \n",
    "    menu_id=input('Menu_id 4 digit:')\n",
    "    menu_name=input('Menu_name:')\n",
    "    menu_sellingPrice=int(input('Menu_SellingPrice int:'))\n",
    "    menu_cost=int(input('Menu_cost int:'))\n",
    "    menu_type=input('Menu_Type Drink: Hot/Cold/Frappe or Dessert:')\n",
    "    menu_categories=input('Coffee/Milk-Chocolate/Smoothies/Tea/Dessert')\n",
    "    cursor = cnxn.cursor()\n",
    "    cursor.execute(\"INSERT INTO menu\\\n",
    "    (Menu_id,Menu_name,Menu_SellingPrice,Menu_cost,Menu_Type,Menu_Categories)\\\n",
    "    VALUES (?,?,?,?,?,?)\",(menu_id,menu_name,menu_sellingPrice,menu_cost,menu_type,menu_categories))\n",
    "    print(f'Add new menu {menu_id} or {menu_name} is successful')\n",
    "    cnxn.commit()\n",
    " "
   ]
  },
  {
   "cell_type": "code",
   "execution_count": 247,
   "id": "63033d2b",
   "metadata": {
    "scrolled": false
   },
   "outputs": [
    {
     "name": "stdout",
     "output_type": "stream",
     "text": [
      "Last id: 0073\n",
      "Menu_id 4 digit:0074\n",
      "Menu_name:wine\n",
      "Menu_SellingPrice int:70\n",
      "Menu_cost int:50\n",
      "Menu_Type Drink: Hot/Cold/Frappe or Dessert:Hot\n",
      "Coffee/Milk-Chocolate/Smoothies/Tea/DessertTea\n",
      "Add menu 0074 or wine is successful\n"
     ]
    }
   ],
   "source": [
    "add_menu()"
   ]
  },
  {
   "cell_type": "code",
   "execution_count": 248,
   "id": "841fa434",
   "metadata": {},
   "outputs": [],
   "source": [
    "def get_tailmenu():\n",
    "    cursor = cnxn.cursor()\n",
    "    cursor.execute(\"SELECT * FROM menu order by menu_id desc limit 5  \")  \n",
    "    row = cursor.fetchone()\n",
    "    while row:\n",
    "        print(row)\n",
    "        row = cursor.fetchone()"
   ]
  },
  {
   "cell_type": "code",
   "execution_count": 249,
   "id": "3effe07d",
   "metadata": {},
   "outputs": [
    {
     "name": "stdout",
     "output_type": "stream",
     "text": [
      "('0074', 'wine', 70, 50, 'Hot', 'Tea')\n",
      "('0073', 'Mango', 80, 60, 'Frappe', 'Smoothies')\n",
      "('0072', 'Pie', 50, 30, 'Dessert', 'Dessert')\n",
      "('0071', 'Basque Cheesecake', 250, 100, 'Dessert', 'Dessert')\n",
      "('0070', 'Roll Cake', 50, 30, 'Dessert', 'Dessert')\n"
     ]
    }
   ],
   "source": [
    "get_tailmenu()"
   ]
  },
  {
   "cell_type": "markdown",
   "id": "2bc22727",
   "metadata": {},
   "source": [
    "# Add Store"
   ]
  },
  {
   "cell_type": "code",
   "execution_count": 70,
   "id": "54fedca6",
   "metadata": {},
   "outputs": [],
   "source": [
    "def add_store():\n",
    "    cursor = cnxn.cursor()\n",
    "    cursor.execute(\"SELECT max(store_id) FROM  store\")\n",
    "    row = cursor.fetchone()\n",
    "    print('Last store id:',row[0]) \n",
    "    store_id=input('store_id 4 digit Cxxx:')\n",
    "    store_name=input('store_name:')\n",
    "    Store_province=input('Store_province:')\n",
    "    cursor = cnxn.cursor()\n",
    "    cursor.execute(\"INSERT INTO store\\\n",
    "    (store_id,store_name,Store_province)\\\n",
    "    VALUES (?,?,?)\",(store_id,store_name,Store_province))\n",
    "    print(f'Add new store {store_id} or {store_name} is successful')\n",
    "    cnxn.commit()"
   ]
  },
  {
   "cell_type": "code",
   "execution_count": 71,
   "id": "3e69135e",
   "metadata": {
    "scrolled": true
   },
   "outputs": [
    {
     "name": "stdout",
     "output_type": "stream",
     "text": [
      "Last store id: C030\n",
      "store_id 4 digit Cxxx:C031\n",
      "store_name:Coffee's บิ๊กซีบางซื่อ\n",
      "Store_province:กรุงเทพมหานคร\n",
      "Add store C031 or Coffee's บิ๊กซีบางซื่อ is successful\n"
     ]
    }
   ],
   "source": [
    "add_store() #('C030', \"Coffee's บิ๊กซีบางใหญ่\", 'นนทบุรี')"
   ]
  },
  {
   "cell_type": "code",
   "execution_count": 75,
   "id": "df4423ca",
   "metadata": {},
   "outputs": [],
   "source": [
    "def get_tailstore():\n",
    "    cursor = cnxn.cursor()\n",
    "    cursor.execute(\"SELECT * FROM store order by store_id desc limit 5  \")  \n",
    "    row = cursor.fetchone()\n",
    "    while row:\n",
    "        print(row)\n",
    "        row = cursor.fetchone()"
   ]
  },
  {
   "cell_type": "code",
   "execution_count": 76,
   "id": "e2ceec94",
   "metadata": {},
   "outputs": [
    {
     "name": "stdout",
     "output_type": "stream",
     "text": [
      "('C031', \"Coffee's บิ๊กซีบางซื่อ\", 'กรุงเทพมหานคร')\n",
      "('C030', \"Coffee's บิ๊กซีบางใหญ่\", 'นนทบุรี')\n",
      "('C029', \"Coffee's ทาวน์เซ็นเตอร์บิ๊กซีหัวหมาก\", 'กรุงเทพมหานคร')\n",
      "('C028', \"Coffee's บิ๊กซีเพชรเกษมextra\", 'กรุงเทพมหานคร')\n",
      "('C027', \"Coffee's บิ๊กซีบางพลี\", 'สมุทรปราการ')\n"
     ]
    }
   ],
   "source": [
    "get_tailstore()"
   ]
  },
  {
   "cell_type": "markdown",
   "id": "1005f217",
   "metadata": {},
   "source": [
    "# Add customer"
   ]
  },
  {
   "cell_type": "code",
   "execution_count": 229,
   "id": "92ffc239",
   "metadata": {},
   "outputs": [],
   "source": [
    "def add_customer():\n",
    "    cursor = cnxn.cursor()\n",
    "    cursor.execute(\"SELECT max(customer_id) FROM customer\")\n",
    "    row = cursor.fetchone()\n",
    "    print('Last customer id:',row[0]) \n",
    "    customer_id=input('customer_id 4 digit:')\n",
    "    customer_firstname=input('Customer_firstname:')\n",
    "    customer_lastname=input('Customer_lastname:')\n",
    "    customer_age=int(input('Customer_age:'))\n",
    "    customer_gender=input('Customer_gender:')\n",
    "                      \n",
    "    cursor = cnxn.cursor()\n",
    "    cursor.execute(\"INSERT INTO customer\\\n",
    "    (customer_id,Customer_firstname,Customer_lastname,Customer_age,Customer_gender)\\\n",
    "    VALUES (?,?,?,?,? )\",(customer_id,customer_firstname,customer_lastname,customer_age,customer_gender))\n",
    "    print(f'Add new customer {customer_id} or {customer_firstname} is successful')\n",
    "    cnxn.commit()"
   ]
  },
  {
   "cell_type": "code",
   "execution_count": 230,
   "id": "80414bc6",
   "metadata": {
    "scrolled": true
   },
   "outputs": [
    {
     "name": "stdout",
     "output_type": "stream",
     "text": [
      "Last customer id: 0032\n",
      "customer_id 4 digit:0033\n",
      "Customer_firstname:มานี\n",
      "Customer_lastname:มานา\n",
      "Customer_age:14\n",
      "Customer_gender:ชาย\n",
      "Add new customer 0033 or มานี is successful\n"
     ]
    }
   ],
   "source": [
    "add_customer() #('0030', 'ภัสสร', 'ศรีน้ำเงิน', 17, 'ชาย', 2005)"
   ]
  },
  {
   "cell_type": "code",
   "execution_count": 231,
   "id": "701a6bc2",
   "metadata": {},
   "outputs": [],
   "source": [
    "def get_tailcustomer():\n",
    "    cursor = cnxn.cursor()\n",
    "    cursor.execute(\"SELECT * FROM customer order by customer_id desc limit 5  \")  \n",
    "    row = cursor.fetchone()\n",
    "    while row:\n",
    "        print(row)\n",
    "        row = cursor.fetchone()"
   ]
  },
  {
   "cell_type": "code",
   "execution_count": 232,
   "id": "26035980",
   "metadata": {
    "scrolled": true
   },
   "outputs": [
    {
     "name": "stdout",
     "output_type": "stream",
     "text": [
      "('0033', 'มานี', 'มานา', 14, 'ชาย')\n",
      "('0032', 'พิม', 'แพรว', 12, 'หญิง')\n",
      "('0031', 'ปภัต', 'สำรวม', 40, 'ชาย')\n",
      "('0030', 'ภัสสร', 'ศรีน้ำเงิน', 17, 'ชาย')\n",
      "('0029', 'วริศรา', 'วงเวียน', 23, 'ชาย')\n"
     ]
    }
   ],
   "source": [
    "get_tailcustomer()"
   ]
  },
  {
   "cell_type": "markdown",
   "id": "da045647",
   "metadata": {},
   "source": [
    "# Update menu"
   ]
  },
  {
   "cell_type": "markdown",
   "id": "6d721cb6",
   "metadata": {},
   "source": [
    "Menu Price"
   ]
  },
  {
   "cell_type": "code",
   "execution_count": 251,
   "id": "257f51bc",
   "metadata": {},
   "outputs": [],
   "source": [
    "def update_menuprice():\n",
    "    menu_id=get_menu()\n",
    "    menu_oldsellingPrice=get_menuprice(menu_id)\n",
    "    menu_sellingPrice=int(input('Menu_SellingPrice int:'))\n",
    "    \n",
    "    \n",
    "     \n",
    "    cursor = cnxn.cursor()\n",
    "    cursor.execute(\"UPDATE menu \\\n",
    "                SET Menu_SellingPrice =? \\\n",
    "                WHERE Menu_SellingPrice =? \\\n",
    "                AND Menu_id =?;\"\\\n",
    "             ,(menu_sellingPrice,menu_oldsellingPrice,menu_id))\n",
    "    cnxn.commit()\n",
    "    print('New price is:',get_menuprice(menu_id))"
   ]
  },
  {
   "cell_type": "code",
   "execution_count": 252,
   "id": "fcbc330f",
   "metadata": {
    "scrolled": false
   },
   "outputs": [
    {
     "name": "stdout",
     "output_type": "stream",
     "text": [
      "Menu ID 4number xxxx:0005\n",
      "price: 65\n",
      "Menu_SellingPrice int:70\n",
      "price: 70\n",
      "New price is: 70\n"
     ]
    }
   ],
   "source": [
    "update_menuprice()"
   ]
  },
  {
   "cell_type": "code",
   "execution_count": 253,
   "id": "aed60f35",
   "metadata": {},
   "outputs": [
    {
     "name": "stdout",
     "output_type": "stream",
     "text": [
      "price: 70\n"
     ]
    },
    {
     "data": {
      "text/plain": [
       "70"
      ]
     },
     "execution_count": 253,
     "metadata": {},
     "output_type": "execute_result"
    }
   ],
   "source": [
    "get_menuprice('0005')"
   ]
  },
  {
   "cell_type": "markdown",
   "id": "30b1af95",
   "metadata": {},
   "source": [
    "Menu Name"
   ]
  },
  {
   "cell_type": "code",
   "execution_count": 122,
   "id": "5cf0065f",
   "metadata": {},
   "outputs": [],
   "source": [
    "def update_Menuname():\n",
    "    menu_id=get_menu()\n",
    "    menu_oldname=get_menuname(menu_id)\n",
    "    menu_name=input('Menu_name:')\n",
    "    \n",
    "     \n",
    "    cursor = cnxn.cursor()\n",
    "    cursor.execute(\"UPDATE menu \\\n",
    "                SET menu_name =? \\\n",
    "                WHERE menu_name =? \\\n",
    "                AND Menu_id =?;\"\\\n",
    "             ,(menu_name,menu_oldname,menu_id))\n",
    "    cnxn.commit()\n",
    "    print('New menu name is:',get_menuname(menu_id))"
   ]
  },
  {
   "cell_type": "code",
   "execution_count": 123,
   "id": "93a99ef7",
   "metadata": {
    "scrolled": true
   },
   "outputs": [
    {
     "name": "stdout",
     "output_type": "stream",
     "text": [
      "Menu ID 4number xxxx:20304w\n",
      "Menu ID not in list\n"
     ]
    },
    {
     "ename": "KeyboardInterrupt",
     "evalue": "Interrupted by user",
     "output_type": "error",
     "traceback": [
      "\u001b[1;31m---------------------------------------------------------------------------\u001b[0m",
      "\u001b[1;31mKeyboardInterrupt\u001b[0m                         Traceback (most recent call last)",
      "\u001b[1;32m~\\AppData\\Local\\Temp/ipykernel_22224/4095933596.py\u001b[0m in \u001b[0;36m<module>\u001b[1;34m\u001b[0m\n\u001b[1;32m----> 1\u001b[1;33m \u001b[0mupdate_Menuname\u001b[0m\u001b[1;33m(\u001b[0m\u001b[1;33m)\u001b[0m\u001b[1;33m\u001b[0m\u001b[1;33m\u001b[0m\u001b[0m\n\u001b[0m",
      "\u001b[1;32m~\\AppData\\Local\\Temp/ipykernel_22224/4048619947.py\u001b[0m in \u001b[0;36mupdate_Menuname\u001b[1;34m()\u001b[0m\n\u001b[0;32m      1\u001b[0m \u001b[1;32mdef\u001b[0m \u001b[0mupdate_Menuname\u001b[0m\u001b[1;33m(\u001b[0m\u001b[1;33m)\u001b[0m\u001b[1;33m:\u001b[0m\u001b[1;33m\u001b[0m\u001b[1;33m\u001b[0m\u001b[0m\n\u001b[1;32m----> 2\u001b[1;33m     \u001b[0mmenu_id\u001b[0m\u001b[1;33m=\u001b[0m\u001b[0mget_menu\u001b[0m\u001b[1;33m(\u001b[0m\u001b[1;33m)\u001b[0m\u001b[1;33m\u001b[0m\u001b[1;33m\u001b[0m\u001b[0m\n\u001b[0m\u001b[0;32m      3\u001b[0m     \u001b[0mmenu_oldname\u001b[0m\u001b[1;33m=\u001b[0m\u001b[0mget_menuname\u001b[0m\u001b[1;33m(\u001b[0m\u001b[0mmenu_id\u001b[0m\u001b[1;33m)\u001b[0m\u001b[1;33m\u001b[0m\u001b[1;33m\u001b[0m\u001b[0m\n\u001b[0;32m      4\u001b[0m     \u001b[0mmenu_name\u001b[0m\u001b[1;33m=\u001b[0m\u001b[0minput\u001b[0m\u001b[1;33m(\u001b[0m\u001b[1;34m'Menu_name:'\u001b[0m\u001b[1;33m)\u001b[0m\u001b[1;33m\u001b[0m\u001b[1;33m\u001b[0m\u001b[0m\n\u001b[0;32m      5\u001b[0m \u001b[1;33m\u001b[0m\u001b[0m\n",
      "\u001b[1;32m~\\AppData\\Local\\Temp/ipykernel_22224/2863408540.py\u001b[0m in \u001b[0;36mget_menu\u001b[1;34m()\u001b[0m\n\u001b[0;32m     12\u001b[0m         \u001b[1;32melse\u001b[0m\u001b[1;33m:\u001b[0m\u001b[1;33m\u001b[0m\u001b[1;33m\u001b[0m\u001b[0m\n\u001b[0;32m     13\u001b[0m             \u001b[0mprint\u001b[0m\u001b[1;33m(\u001b[0m\u001b[1;34m\"Menu ID not in list\"\u001b[0m\u001b[1;33m)\u001b[0m\u001b[1;33m\u001b[0m\u001b[1;33m\u001b[0m\u001b[0m\n\u001b[1;32m---> 14\u001b[1;33m             \u001b[0mmenu_id\u001b[0m\u001b[1;33m=\u001b[0m\u001b[0minput\u001b[0m\u001b[1;33m(\u001b[0m\u001b[1;34m\"Plaese Enter Menu ID agian:\"\u001b[0m\u001b[1;33m)\u001b[0m\u001b[1;33m\u001b[0m\u001b[1;33m\u001b[0m\u001b[0m\n\u001b[0m\u001b[0;32m     15\u001b[0m \u001b[1;33m\u001b[0m\u001b[0m\n\u001b[0;32m     16\u001b[0m \u001b[1;32mdef\u001b[0m \u001b[0mget_menuprice\u001b[0m\u001b[1;33m(\u001b[0m\u001b[0mmenu_id\u001b[0m\u001b[1;33m)\u001b[0m\u001b[1;33m:\u001b[0m\u001b[1;33m\u001b[0m\u001b[1;33m\u001b[0m\u001b[0m\n",
      "\u001b[1;32m~\\anaconda3\\lib\\site-packages\\ipykernel\\kernelbase.py\u001b[0m in \u001b[0;36mraw_input\u001b[1;34m(self, prompt)\u001b[0m\n\u001b[0;32m   1004\u001b[0m                 \u001b[1;34m\"raw_input was called, but this frontend does not support input requests.\"\u001b[0m\u001b[1;33m\u001b[0m\u001b[1;33m\u001b[0m\u001b[0m\n\u001b[0;32m   1005\u001b[0m             )\n\u001b[1;32m-> 1006\u001b[1;33m         return self._input_request(\n\u001b[0m\u001b[0;32m   1007\u001b[0m             \u001b[0mstr\u001b[0m\u001b[1;33m(\u001b[0m\u001b[0mprompt\u001b[0m\u001b[1;33m)\u001b[0m\u001b[1;33m,\u001b[0m\u001b[1;33m\u001b[0m\u001b[1;33m\u001b[0m\u001b[0m\n\u001b[0;32m   1008\u001b[0m             \u001b[0mself\u001b[0m\u001b[1;33m.\u001b[0m\u001b[0m_parent_ident\u001b[0m\u001b[1;33m[\u001b[0m\u001b[1;34m\"shell\"\u001b[0m\u001b[1;33m]\u001b[0m\u001b[1;33m,\u001b[0m\u001b[1;33m\u001b[0m\u001b[1;33m\u001b[0m\u001b[0m\n",
      "\u001b[1;32m~\\anaconda3\\lib\\site-packages\\ipykernel\\kernelbase.py\u001b[0m in \u001b[0;36m_input_request\u001b[1;34m(self, prompt, ident, parent, password)\u001b[0m\n\u001b[0;32m   1049\u001b[0m             \u001b[1;32mexcept\u001b[0m \u001b[0mKeyboardInterrupt\u001b[0m\u001b[1;33m:\u001b[0m\u001b[1;33m\u001b[0m\u001b[1;33m\u001b[0m\u001b[0m\n\u001b[0;32m   1050\u001b[0m                 \u001b[1;31m# re-raise KeyboardInterrupt, to truncate traceback\u001b[0m\u001b[1;33m\u001b[0m\u001b[1;33m\u001b[0m\u001b[0m\n\u001b[1;32m-> 1051\u001b[1;33m                 \u001b[1;32mraise\u001b[0m \u001b[0mKeyboardInterrupt\u001b[0m\u001b[1;33m(\u001b[0m\u001b[1;34m\"Interrupted by user\"\u001b[0m\u001b[1;33m)\u001b[0m \u001b[1;32mfrom\u001b[0m \u001b[1;32mNone\u001b[0m\u001b[1;33m\u001b[0m\u001b[1;33m\u001b[0m\u001b[0m\n\u001b[0m\u001b[0;32m   1052\u001b[0m             \u001b[1;32mexcept\u001b[0m \u001b[0mException\u001b[0m\u001b[1;33m:\u001b[0m\u001b[1;33m\u001b[0m\u001b[1;33m\u001b[0m\u001b[0m\n\u001b[0;32m   1053\u001b[0m                 \u001b[0mself\u001b[0m\u001b[1;33m.\u001b[0m\u001b[0mlog\u001b[0m\u001b[1;33m.\u001b[0m\u001b[0mwarning\u001b[0m\u001b[1;33m(\u001b[0m\u001b[1;34m\"Invalid Message:\"\u001b[0m\u001b[1;33m,\u001b[0m \u001b[0mexc_info\u001b[0m\u001b[1;33m=\u001b[0m\u001b[1;32mTrue\u001b[0m\u001b[1;33m)\u001b[0m\u001b[1;33m\u001b[0m\u001b[1;33m\u001b[0m\u001b[0m\n",
      "\u001b[1;31mKeyboardInterrupt\u001b[0m: Interrupted by user"
     ]
    }
   ],
   "source": [
    "update_Menuname()"
   ]
  },
  {
   "cell_type": "code",
   "execution_count": 103,
   "id": "e67a484f",
   "metadata": {},
   "outputs": [
    {
     "name": "stdout",
     "output_type": "stream",
     "text": [
      "name: Espresso\n"
     ]
    },
    {
     "data": {
      "text/plain": [
       "'Espresso'"
      ]
     },
     "execution_count": 103,
     "metadata": {},
     "output_type": "execute_result"
    }
   ],
   "source": [
    "get_menuname('0003')"
   ]
  },
  {
   "cell_type": "markdown",
   "id": "c50c1c23",
   "metadata": {},
   "source": [
    "# Menu cost"
   ]
  },
  {
   "cell_type": "code",
   "execution_count": 128,
   "id": "f564d7f5",
   "metadata": {},
   "outputs": [],
   "source": [
    "def update_menucost():\n",
    "    menu_id=get_menu()\n",
    "    menu_oldcost = get_menuid()\n",
    "    menu_cost=int(input('Menu_cost int:')) \n",
    "    cursor = cnxn.cursor()\n",
    "    cursor.execute(\"UPDATE menu \\\n",
    "                SET Menu_cost =? \\\n",
    "                WHERE Menu_cost =? \\\n",
    "                AND Menu_id =?;\",(menu_cost,menu_oldcost,menu_id))\n",
    "    cnxn.commit()\n",
    "    print('New menu cost is:',get_cost(menu_id))"
   ]
  },
  {
   "cell_type": "code",
   "execution_count": 129,
   "id": "bf017c23",
   "metadata": {
    "scrolled": true
   },
   "outputs": [
    {
     "name": "stdout",
     "output_type": "stream",
     "text": [
      "Menu ID 4number xxxx:2233\n",
      "Menu ID not in list\n",
      "Plaese Enter Menu ID agian:201323]\n",
      "Menu ID not in list\n",
      "Plaese Enter Menu ID agian:32-0e2\n",
      "Menu ID not in list\n"
     ]
    },
    {
     "ename": "KeyboardInterrupt",
     "evalue": "Interrupted by user",
     "output_type": "error",
     "traceback": [
      "\u001b[1;31m---------------------------------------------------------------------------\u001b[0m",
      "\u001b[1;31mKeyboardInterrupt\u001b[0m                         Traceback (most recent call last)",
      "\u001b[1;32m~\\AppData\\Local\\Temp/ipykernel_22224/1839048572.py\u001b[0m in \u001b[0;36m<module>\u001b[1;34m\u001b[0m\n\u001b[1;32m----> 1\u001b[1;33m \u001b[0mupdate_menucost\u001b[0m\u001b[1;33m(\u001b[0m\u001b[1;33m)\u001b[0m\u001b[1;33m\u001b[0m\u001b[1;33m\u001b[0m\u001b[0m\n\u001b[0m",
      "\u001b[1;32m~\\AppData\\Local\\Temp/ipykernel_22224/2909006146.py\u001b[0m in \u001b[0;36mupdate_menucost\u001b[1;34m()\u001b[0m\n\u001b[0;32m      1\u001b[0m \u001b[1;32mdef\u001b[0m \u001b[0mupdate_menucost\u001b[0m\u001b[1;33m(\u001b[0m\u001b[1;33m)\u001b[0m\u001b[1;33m:\u001b[0m\u001b[1;33m\u001b[0m\u001b[1;33m\u001b[0m\u001b[0m\n\u001b[1;32m----> 2\u001b[1;33m     \u001b[0mmenu_id\u001b[0m\u001b[1;33m=\u001b[0m\u001b[0mget_menu\u001b[0m\u001b[1;33m(\u001b[0m\u001b[1;33m)\u001b[0m\u001b[1;33m\u001b[0m\u001b[1;33m\u001b[0m\u001b[0m\n\u001b[0m\u001b[0;32m      3\u001b[0m     \u001b[0mmenu_oldcost\u001b[0m \u001b[1;33m=\u001b[0m \u001b[0mget_menuid\u001b[0m\u001b[1;33m(\u001b[0m\u001b[1;33m)\u001b[0m\u001b[1;33m\u001b[0m\u001b[1;33m\u001b[0m\u001b[0m\n\u001b[0;32m      4\u001b[0m     \u001b[0mmenu_cost\u001b[0m\u001b[1;33m=\u001b[0m\u001b[0mint\u001b[0m\u001b[1;33m(\u001b[0m\u001b[0minput\u001b[0m\u001b[1;33m(\u001b[0m\u001b[1;34m'Menu_cost int:'\u001b[0m\u001b[1;33m)\u001b[0m\u001b[1;33m)\u001b[0m\u001b[1;33m\u001b[0m\u001b[1;33m\u001b[0m\u001b[0m\n\u001b[0;32m      5\u001b[0m     \u001b[0mcursor\u001b[0m \u001b[1;33m=\u001b[0m \u001b[0mcnxn\u001b[0m\u001b[1;33m.\u001b[0m\u001b[0mcursor\u001b[0m\u001b[1;33m(\u001b[0m\u001b[1;33m)\u001b[0m\u001b[1;33m\u001b[0m\u001b[1;33m\u001b[0m\u001b[0m\n",
      "\u001b[1;32m~\\AppData\\Local\\Temp/ipykernel_22224/2863408540.py\u001b[0m in \u001b[0;36mget_menu\u001b[1;34m()\u001b[0m\n\u001b[0;32m     12\u001b[0m         \u001b[1;32melse\u001b[0m\u001b[1;33m:\u001b[0m\u001b[1;33m\u001b[0m\u001b[1;33m\u001b[0m\u001b[0m\n\u001b[0;32m     13\u001b[0m             \u001b[0mprint\u001b[0m\u001b[1;33m(\u001b[0m\u001b[1;34m\"Menu ID not in list\"\u001b[0m\u001b[1;33m)\u001b[0m\u001b[1;33m\u001b[0m\u001b[1;33m\u001b[0m\u001b[0m\n\u001b[1;32m---> 14\u001b[1;33m             \u001b[0mmenu_id\u001b[0m\u001b[1;33m=\u001b[0m\u001b[0minput\u001b[0m\u001b[1;33m(\u001b[0m\u001b[1;34m\"Plaese Enter Menu ID agian:\"\u001b[0m\u001b[1;33m)\u001b[0m\u001b[1;33m\u001b[0m\u001b[1;33m\u001b[0m\u001b[0m\n\u001b[0m\u001b[0;32m     15\u001b[0m \u001b[1;33m\u001b[0m\u001b[0m\n\u001b[0;32m     16\u001b[0m \u001b[1;32mdef\u001b[0m \u001b[0mget_menuprice\u001b[0m\u001b[1;33m(\u001b[0m\u001b[0mmenu_id\u001b[0m\u001b[1;33m)\u001b[0m\u001b[1;33m:\u001b[0m\u001b[1;33m\u001b[0m\u001b[1;33m\u001b[0m\u001b[0m\n",
      "\u001b[1;32m~\\anaconda3\\lib\\site-packages\\ipykernel\\kernelbase.py\u001b[0m in \u001b[0;36mraw_input\u001b[1;34m(self, prompt)\u001b[0m\n\u001b[0;32m   1004\u001b[0m                 \u001b[1;34m\"raw_input was called, but this frontend does not support input requests.\"\u001b[0m\u001b[1;33m\u001b[0m\u001b[1;33m\u001b[0m\u001b[0m\n\u001b[0;32m   1005\u001b[0m             )\n\u001b[1;32m-> 1006\u001b[1;33m         return self._input_request(\n\u001b[0m\u001b[0;32m   1007\u001b[0m             \u001b[0mstr\u001b[0m\u001b[1;33m(\u001b[0m\u001b[0mprompt\u001b[0m\u001b[1;33m)\u001b[0m\u001b[1;33m,\u001b[0m\u001b[1;33m\u001b[0m\u001b[1;33m\u001b[0m\u001b[0m\n\u001b[0;32m   1008\u001b[0m             \u001b[0mself\u001b[0m\u001b[1;33m.\u001b[0m\u001b[0m_parent_ident\u001b[0m\u001b[1;33m[\u001b[0m\u001b[1;34m\"shell\"\u001b[0m\u001b[1;33m]\u001b[0m\u001b[1;33m,\u001b[0m\u001b[1;33m\u001b[0m\u001b[1;33m\u001b[0m\u001b[0m\n",
      "\u001b[1;32m~\\anaconda3\\lib\\site-packages\\ipykernel\\kernelbase.py\u001b[0m in \u001b[0;36m_input_request\u001b[1;34m(self, prompt, ident, parent, password)\u001b[0m\n\u001b[0;32m   1049\u001b[0m             \u001b[1;32mexcept\u001b[0m \u001b[0mKeyboardInterrupt\u001b[0m\u001b[1;33m:\u001b[0m\u001b[1;33m\u001b[0m\u001b[1;33m\u001b[0m\u001b[0m\n\u001b[0;32m   1050\u001b[0m                 \u001b[1;31m# re-raise KeyboardInterrupt, to truncate traceback\u001b[0m\u001b[1;33m\u001b[0m\u001b[1;33m\u001b[0m\u001b[0m\n\u001b[1;32m-> 1051\u001b[1;33m                 \u001b[1;32mraise\u001b[0m \u001b[0mKeyboardInterrupt\u001b[0m\u001b[1;33m(\u001b[0m\u001b[1;34m\"Interrupted by user\"\u001b[0m\u001b[1;33m)\u001b[0m \u001b[1;32mfrom\u001b[0m \u001b[1;32mNone\u001b[0m\u001b[1;33m\u001b[0m\u001b[1;33m\u001b[0m\u001b[0m\n\u001b[0m\u001b[0;32m   1052\u001b[0m             \u001b[1;32mexcept\u001b[0m \u001b[0mException\u001b[0m\u001b[1;33m:\u001b[0m\u001b[1;33m\u001b[0m\u001b[1;33m\u001b[0m\u001b[0m\n\u001b[0;32m   1053\u001b[0m                 \u001b[0mself\u001b[0m\u001b[1;33m.\u001b[0m\u001b[0mlog\u001b[0m\u001b[1;33m.\u001b[0m\u001b[0mwarning\u001b[0m\u001b[1;33m(\u001b[0m\u001b[1;34m\"Invalid Message:\"\u001b[0m\u001b[1;33m,\u001b[0m \u001b[0mexc_info\u001b[0m\u001b[1;33m=\u001b[0m\u001b[1;32mTrue\u001b[0m\u001b[1;33m)\u001b[0m\u001b[1;33m\u001b[0m\u001b[1;33m\u001b[0m\u001b[0m\n",
      "\u001b[1;31mKeyboardInterrupt\u001b[0m: Interrupted by user"
     ]
    }
   ],
   "source": [
    "update_menucost()"
   ]
  },
  {
   "cell_type": "code",
   "execution_count": 130,
   "id": "64afb980",
   "metadata": {},
   "outputs": [
    {
     "name": "stdout",
     "output_type": "stream",
     "text": [
      "cost: 29\n"
     ]
    },
    {
     "data": {
      "text/plain": [
       "29"
      ]
     },
     "execution_count": 130,
     "metadata": {},
     "output_type": "execute_result"
    }
   ],
   "source": [
    "get_cost('0002')"
   ]
  },
  {
   "cell_type": "markdown",
   "id": "1d982ae7",
   "metadata": {},
   "source": [
    "# Store"
   ]
  },
  {
   "cell_type": "markdown",
   "id": "d47ebadf",
   "metadata": {},
   "source": [
    "# Store name"
   ]
  },
  {
   "cell_type": "code",
   "execution_count": 110,
   "id": "08222929",
   "metadata": {},
   "outputs": [],
   "source": [
    "\n",
    "def update_Storename():\n",
    "    store_id=get_store()\n",
    "    store_oldname=get_storename(store_id)\n",
    "    store_name=input('Store_name:')\n",
    "    cursor = cnxn.cursor()\n",
    "    cursor.execute(\"UPDATE Store \\\n",
    "                SET Store_name =? \\\n",
    "                WHERE Store_name =? \\\n",
    "                AND Store_id =?;\"\\\n",
    "             ,(store_name,store_oldname,store_id))\n",
    "    cnxn.commit()\n",
    "    print('New store name is',get_storename(store_id))"
   ]
  },
  {
   "cell_type": "code",
   "execution_count": 113,
   "id": "24e7447a",
   "metadata": {},
   "outputs": [
    {
     "name": "stdout",
     "output_type": "stream",
     "text": [
      "'Store_id 4 digit Cxxx:'C002\n",
      "name: Coffee's เซ็นทรัลพระราม99\n",
      "Store_name:Coffee's เซ็นทรัลพระราม9\n",
      "name: Coffee's เซ็นทรัลพระราม9\n",
      "New store name is Coffee's เซ็นทรัลพระราม9\n"
     ]
    }
   ],
   "source": [
    "update_Storename()"
   ]
  },
  {
   "cell_type": "code",
   "execution_count": 112,
   "id": "973ce23f",
   "metadata": {},
   "outputs": [
    {
     "name": "stdout",
     "output_type": "stream",
     "text": [
      "name: Coffee's เซ็นทรัลพระราม99\n"
     ]
    },
    {
     "data": {
      "text/plain": [
       "\"Coffee's เซ็นทรัลพระราม99\""
      ]
     },
     "execution_count": 112,
     "metadata": {},
     "output_type": "execute_result"
    }
   ],
   "source": [
    "get_storename('C002')"
   ]
  },
  {
   "cell_type": "markdown",
   "id": "16d059b9",
   "metadata": {},
   "source": [
    "Store Province"
   ]
  },
  {
   "cell_type": "code",
   "execution_count": 11,
   "id": "30a4ec8f",
   "metadata": {},
   "outputs": [],
   "source": [
    "\n",
    "def update_store_province():\n",
    "    store_id=get_store()\n",
    "    store_oldprovince=get_store_province(store_id)\n",
    "    store_province=input('Store_province:')\n",
    "    \n",
    "     \n",
    "    cursor = cnxn.cursor()\n",
    "    cursor.execute(\"UPDATE Store \\\n",
    "                SET Store_province =? \\\n",
    "                WHERE Store_province =? \\\n",
    "                AND Store_id =?;\"\n",
    "             ,(store_province,store_oldprovince,store_id))\n",
    "    cnxn.commit()\n",
    "    print('New store province is',get_store_province(store_id))"
   ]
  },
  {
   "cell_type": "code",
   "execution_count": 111,
   "id": "7437671c",
   "metadata": {},
   "outputs": [
    {
     "name": "stdout",
     "output_type": "stream",
     "text": [
      "'Store_id 4 digit Cxxx:'กรุงเทพมหานคร\n",
      "store_ID not in list\n",
      "Plaese Enter Store ID agian:C020\n",
      "province: กทม.\n",
      "Store_province:กรุงเทพมหานคร\n",
      "province: กรุงเทพมหานคร\n",
      "New store province is กรุงเทพมหานคร\n"
     ]
    }
   ],
   "source": [
    "update_store_province()"
   ]
  },
  {
   "cell_type": "markdown",
   "id": "2c60212e",
   "metadata": {},
   "source": [
    "# Update customer"
   ]
  },
  {
   "cell_type": "markdown",
   "id": "537bef4a",
   "metadata": {},
   "source": [
    "# First name"
   ]
  },
  {
   "cell_type": "code",
   "execution_count": 135,
   "id": "ddf72edc",
   "metadata": {},
   "outputs": [],
   "source": [
    "def update_cusfirstname():\n",
    "    customer_id=get_member()\n",
    "    cus_oldfirstname=get_cusfirstname(customer_id)\n",
    "    cus_firstname=input('Customer Firstname:')\n",
    "\n",
    "    cursor = cnxn.cursor()\n",
    "    cursor.execute(\"UPDATE customer \\\n",
    "                SET customer_firstname =? \\\n",
    "                WHERE customer_firstname =? \\\n",
    "                AND customer_id =?;\"\n",
    "             ,(cus_firstname,cus_oldfirstname,customer_id))\n",
    "    cnxn.commit()\n",
    "    print('New customer firstname  is',get_cusfirstname(customer_id))"
   ]
  },
  {
   "cell_type": "code",
   "execution_count": 136,
   "id": "f80e0cca",
   "metadata": {
    "scrolled": false
   },
   "outputs": [
    {
     "name": "stdout",
     "output_type": "stream",
     "text": [
      "customer_id 4number xxxx:4545656\n",
      "customer id ID not in list\n",
      "Plaese Enter customer_id agian:43546546\n",
      "customer id ID not in list\n",
      "Plaese Enter customer_id agian:4543\n",
      "customer id ID not in list\n",
      "Plaese Enter customer_id agian:0002\n",
      "d\n",
      "Customer Firstname:ศิรินทิพย์\n",
      "ศิรินทิพย์\n",
      "New customer firstname  is ศิรินทิพย์\n"
     ]
    }
   ],
   "source": [
    "update_cusfirstname()"
   ]
  },
  {
   "cell_type": "code",
   "execution_count": 138,
   "id": "4e3c18ff",
   "metadata": {},
   "outputs": [
    {
     "name": "stdout",
     "output_type": "stream",
     "text": [
      "ศิรินทิพย์\n"
     ]
    },
    {
     "data": {
      "text/plain": [
       "'ศิรินทิพย์'"
      ]
     },
     "execution_count": 138,
     "metadata": {},
     "output_type": "execute_result"
    }
   ],
   "source": [
    "get_cusfirstname('0002')"
   ]
  },
  {
   "cell_type": "markdown",
   "id": "e404ee7c",
   "metadata": {},
   "source": [
    "# Last name"
   ]
  },
  {
   "cell_type": "code",
   "execution_count": 139,
   "id": "518ece10",
   "metadata": {},
   "outputs": [],
   "source": [
    "def update_cuslastname():\n",
    "    customer_id=get_member()\n",
    "    cus_oldlastname=get_cuslastname(customer_id)\n",
    "    cus_lastname=input('Customer Lastname:')\n",
    "\n",
    "    cursor = cnxn.cursor()\n",
    "    cursor.execute(\"UPDATE customer \\\n",
    "                SET customer_lastname =? \\\n",
    "                WHERE customer_lastname =? \\\n",
    "                AND customer_id =?;\"\n",
    "             ,(cus_lastname,cus_oldlastname,customer_id))\n",
    "    cnxn.commit()\n",
    "    print('New customer lastname  is',get_cuslastname(customer_id))"
   ]
  },
  {
   "cell_type": "code",
   "execution_count": 143,
   "id": "a0a85ae3",
   "metadata": {
    "scrolled": true
   },
   "outputs": [
    {
     "name": "stdout",
     "output_type": "stream",
     "text": [
      "customer_id 4number xxxx:0002\n",
      "GGG\n",
      "Customer Lastname:ชัยชนะ\n",
      "ชัยชนะ\n",
      "New customer lastname  is ชัยชนะ\n"
     ]
    }
   ],
   "source": [
    "update_cuslastname()"
   ]
  },
  {
   "cell_type": "code",
   "execution_count": 144,
   "id": "db09caef",
   "metadata": {},
   "outputs": [
    {
     "name": "stdout",
     "output_type": "stream",
     "text": [
      "ชัยชนะ\n"
     ]
    },
    {
     "data": {
      "text/plain": [
       "'ชัยชนะ'"
      ]
     },
     "execution_count": 144,
     "metadata": {},
     "output_type": "execute_result"
    }
   ],
   "source": [
    "get_cuslastname('0002')"
   ]
  },
  {
   "cell_type": "code",
   "execution_count": null,
   "id": "dbdca599",
   "metadata": {},
   "outputs": [],
   "source": []
  },
  {
   "cell_type": "markdown",
   "id": "529d8988",
   "metadata": {},
   "source": [
    "Update age"
   ]
  },
  {
   "cell_type": "markdown",
   "id": "3a3088be",
   "metadata": {},
   "source": [
    " # Create Year of Birth column"
   ]
  },
  {
   "cell_type": "code",
   "execution_count": 254,
   "id": "604e35bf",
   "metadata": {
    "scrolled": true
   },
   "outputs": [
    {
     "name": "stdout",
     "output_type": "stream",
     "text": [
      "('0000', 'No member', 'No member', 0, 'no', 2021)\n",
      "('0001', 'จารุวรรณ', 'เหลืองสีนวล', 21, 'หญิง', 2000)\n",
      "('0002', 'ศิรินทิพย์', 'ชัยชนะ', 14, 'ชาย', 2007)\n",
      "('0003', 'ณัฐมน', 'สุขเกษม', 37, 'หญิง', 1984)\n",
      "('0004', 'เจษฎา', 'กอวังตะโก', 31, 'หญิง', 1990)\n",
      "('0005', 'จุฑาทิพย์', 'ชาญศิริ', 34, 'หญิง', 1987)\n",
      "('0006', 'สุพรรษา', 'ประเสริฐสม', 30, 'หญิง', 1991)\n",
      "('0007', 'นูรีซัน', 'สุขสันต์', 29, 'หญิง', 1992)\n",
      "('0008', 'วลัยลักษณ์', 'สัตถาผล', 28, 'หญิง', 1993)\n",
      "('0009', 'เบญจมาภรณ์', 'หมูนสี', 27, 'หญิง', 1994)\n",
      "('0010', 'ฉันชนก', 'เชิญขวัญ', 26, 'หญิง', 1995)\n",
      "('0011', 'ธันยพร', 'หะพันธ์', 25, 'หญิง', 1996)\n",
      "('0012', 'อารีรัตน์', 'ศิริพันธ์', 24, 'หญิง', 1997)\n",
      "('0013', 'สุนิสา', 'ศุขห่วง', 23, 'หญิง', 1998)\n",
      "('0014', 'เกวลิน', 'จูเปาะ', 22, 'หญิง', 1999)\n",
      "('0015', 'กัญญารัตน์', 'ประสพสุข', 21, 'หญิง', 2000)\n",
      "('0016', 'จิรัชญา', 'เสนานุช', 20, 'หญิง', 2001)\n",
      "('0017', 'พรรธิดา', 'สืบจันทร์', 19, 'หญิง', 2002)\n",
      "('0018', 'จุฑาทิพย์', 'วัณเพชร', 17, 'หญิง', 2004)\n",
      "('0019', 'อุสรา', 'เจ็กแตงพะเนา', 37, 'หญิง', 1984)\n",
      "('0020', 'กัลยา', 'พานทอง', 31, 'หญิง', 1990)\n",
      "('0021', 'รจนา', 'ขวัญเมือง', 34, 'ชาย', 1987)\n",
      "('0022', 'กัณฑิมา', 'รามมีชัย', 30, 'ชาย', 1991)\n",
      "('0023', 'กาญจนา', 'นาสร้อย', 29, 'ชาย', 1992)\n",
      "('0024', 'พอฤทัย', 'ลาภผล', 28, 'ชาย', 1993)\n",
      "('0025', 'วราภรณ์', 'แซ่ลิ่ม', 27, 'ชาย', 1994)\n",
      "('0026', 'ธิดารัตน์', 'วงศ์เสน', 26, 'หญิง', 1995)\n",
      "('0027', 'กรรณิการ์', 'คงอาษา', 25, 'ชาย', 1996)\n",
      "('0028', 'แอนนา', 'สมบูรณ์สิงห์', 24, 'ชาย', 1997)\n",
      "('0029', 'วริศรา', 'วงเวียน', 23, 'ชาย', 1998)\n",
      "('0030', 'ภัสสร', 'ศรีน้ำเงิน', 17, 'ชาย', 2004)\n",
      "('0031', 'ปภัต', 'สำรวม', 40, 'ชาย', 1981)\n",
      "('0032', 'พิม', 'แพรว', 12, 'หญิง', 2009)\n",
      "('0033', 'มานี', 'มานา', 14, 'ชาย', 2007)\n"
     ]
    }
   ],
   "source": [
    "cursor = cnxn.cursor()\n",
    "cursor.execute(\"ALTER TABLE customer \\\n",
    "ADD COLUMN YearOfBirth int \\\n",
    "GENERATED ALWAYS AS (2022-Customer_age-1) STORED;\")\n",
    "cnxn.commit()\n",
    "get_viewcustomer()"
   ]
  },
  {
   "cell_type": "markdown",
   "id": "ec99a186",
   "metadata": {},
   "source": [
    "# Delete column Year of Birth"
   ]
  },
  {
   "cell_type": "code",
   "execution_count": 255,
   "id": "966743c7",
   "metadata": {
    "scrolled": true
   },
   "outputs": [
    {
     "name": "stdout",
     "output_type": "stream",
     "text": [
      "('0000', 'No member', 'No member', 0, 'no')\n",
      "('0001', 'จารุวรรณ', 'เหลืองสีนวล', 21, 'หญิง')\n",
      "('0002', 'ศิรินทิพย์', 'ชัยชนะ', 14, 'ชาย')\n",
      "('0003', 'ณัฐมน', 'สุขเกษม', 37, 'หญิง')\n",
      "('0004', 'เจษฎา', 'กอวังตะโก', 31, 'หญิง')\n",
      "('0005', 'จุฑาทิพย์', 'ชาญศิริ', 34, 'หญิง')\n",
      "('0006', 'สุพรรษา', 'ประเสริฐสม', 30, 'หญิง')\n",
      "('0007', 'นูรีซัน', 'สุขสันต์', 29, 'หญิง')\n",
      "('0008', 'วลัยลักษณ์', 'สัตถาผล', 28, 'หญิง')\n",
      "('0009', 'เบญจมาภรณ์', 'หมูนสี', 27, 'หญิง')\n",
      "('0010', 'ฉันชนก', 'เชิญขวัญ', 26, 'หญิง')\n",
      "('0011', 'ธันยพร', 'หะพันธ์', 25, 'หญิง')\n",
      "('0012', 'อารีรัตน์', 'ศิริพันธ์', 24, 'หญิง')\n",
      "('0013', 'สุนิสา', 'ศุขห่วง', 23, 'หญิง')\n",
      "('0014', 'เกวลิน', 'จูเปาะ', 22, 'หญิง')\n",
      "('0015', 'กัญญารัตน์', 'ประสพสุข', 21, 'หญิง')\n",
      "('0016', 'จิรัชญา', 'เสนานุช', 20, 'หญิง')\n",
      "('0017', 'พรรธิดา', 'สืบจันทร์', 19, 'หญิง')\n",
      "('0018', 'จุฑาทิพย์', 'วัณเพชร', 17, 'หญิง')\n",
      "('0019', 'อุสรา', 'เจ็กแตงพะเนา', 37, 'หญิง')\n",
      "('0020', 'กัลยา', 'พานทอง', 31, 'หญิง')\n",
      "('0021', 'รจนา', 'ขวัญเมือง', 34, 'ชาย')\n",
      "('0022', 'กัณฑิมา', 'รามมีชัย', 30, 'ชาย')\n",
      "('0023', 'กาญจนา', 'นาสร้อย', 29, 'ชาย')\n",
      "('0024', 'พอฤทัย', 'ลาภผล', 28, 'ชาย')\n",
      "('0025', 'วราภรณ์', 'แซ่ลิ่ม', 27, 'ชาย')\n",
      "('0026', 'ธิดารัตน์', 'วงศ์เสน', 26, 'หญิง')\n",
      "('0027', 'กรรณิการ์', 'คงอาษา', 25, 'ชาย')\n",
      "('0028', 'แอนนา', 'สมบูรณ์สิงห์', 24, 'ชาย')\n",
      "('0029', 'วริศรา', 'วงเวียน', 23, 'ชาย')\n",
      "('0030', 'ภัสสร', 'ศรีน้ำเงิน', 17, 'ชาย')\n",
      "('0031', 'ปภัต', 'สำรวม', 40, 'ชาย')\n",
      "('0032', 'พิม', 'แพรว', 12, 'หญิง')\n",
      "('0033', 'มานี', 'มานา', 14, 'ชาย')\n"
     ]
    }
   ],
   "source": [
    "cursor = cnxn.cursor()\n",
    "cursor.execute(\"ALTER TABLE customer \\\n",
    " DROP column yearofbirth;\")\n",
    "cnxn.commit()\n",
    "get_viewcustomer()"
   ]
  },
  {
   "cell_type": "markdown",
   "id": "85572230",
   "metadata": {},
   "source": [
    "# Delete table row by id"
   ]
  },
  {
   "cell_type": "code",
   "execution_count": 256,
   "id": "23f0cc00",
   "metadata": {},
   "outputs": [],
   "source": [
    "def delete_Customer(customer_id):\n",
    "    cursor = cnxn.cursor()\n",
    "    cursor.execute(\"DELETE FROM Customer WHERE Customer_id = ?;\",(customer_id))\n",
    "    cnxn.commit()\n",
    "    print('Customer id =',customer_id,'was deleted')\n",
    "       \n",
    "def delete_Store(store_id):\n",
    "    cursor = cnxn.cursor()\n",
    "    cursor.execute(\"DELETE FROM Store WHERE Store_id =?;\",(store_id) )\n",
    "    cnxn.commit() \n",
    "    print('Store id =',store_id,'was deleted')\n",
    "\n",
    "def delete_Menuid(menu_id):\n",
    "    cursor = cnxn.cursor()\n",
    "    cursor.execute(\"DELETE FROM Menu WHERE Menu_id =?;\",(menu_id))\n",
    "    cnxn.commit()\n",
    "    print('Menu id =',menu_id,'was deleted')\n"
   ]
  },
  {
   "cell_type": "code",
   "execution_count": 260,
   "id": "97e07c04",
   "metadata": {
    "scrolled": false
   },
   "outputs": [
    {
     "name": "stdout",
     "output_type": "stream",
     "text": [
      "('0000', 'No member', 'No member', 0, 'no')\n",
      "('0001', 'จารุวรรณ', 'เหลืองสีนวล', 21, 'หญิง')\n",
      "('0002', 'ศิรินทิพย์', 'ชัยชนะ', 14, 'ชาย')\n",
      "('0003', 'ณัฐมน', 'สุขเกษม', 37, 'หญิง')\n",
      "('0004', 'เจษฎา', 'กอวังตะโก', 31, 'หญิง')\n",
      "('0005', 'จุฑาทิพย์', 'ชาญศิริ', 34, 'หญิง')\n",
      "('0006', 'สุพรรษา', 'ประเสริฐสม', 30, 'หญิง')\n",
      "('0007', 'นูรีซัน', 'สุขสันต์', 29, 'หญิง')\n",
      "('0008', 'วลัยลักษณ์', 'สัตถาผล', 28, 'หญิง')\n",
      "('0009', 'เบญจมาภรณ์', 'หมูนสี', 27, 'หญิง')\n",
      "('0010', 'ฉันชนก', 'เชิญขวัญ', 26, 'หญิง')\n",
      "('0011', 'ธันยพร', 'หะพันธ์', 25, 'หญิง')\n",
      "('0012', 'อารีรัตน์', 'ศิริพันธ์', 24, 'หญิง')\n",
      "('0013', 'สุนิสา', 'ศุขห่วง', 23, 'หญิง')\n",
      "('0014', 'เกวลิน', 'จูเปาะ', 22, 'หญิง')\n",
      "('0015', 'กัญญารัตน์', 'ประสพสุข', 21, 'หญิง')\n",
      "('0016', 'จิรัชญา', 'เสนานุช', 20, 'หญิง')\n",
      "('0017', 'พรรธิดา', 'สืบจันทร์', 19, 'หญิง')\n",
      "('0018', 'จุฑาทิพย์', 'วัณเพชร', 17, 'หญิง')\n",
      "('0019', 'อุสรา', 'เจ็กแตงพะเนา', 37, 'หญิง')\n",
      "('0020', 'กัลยา', 'พานทอง', 31, 'หญิง')\n",
      "('0021', 'รจนา', 'ขวัญเมือง', 34, 'ชาย')\n",
      "('0022', 'กัณฑิมา', 'รามมีชัย', 30, 'ชาย')\n",
      "('0023', 'กาญจนา', 'นาสร้อย', 29, 'ชาย')\n",
      "('0024', 'พอฤทัย', 'ลาภผล', 28, 'ชาย')\n",
      "('0025', 'วราภรณ์', 'แซ่ลิ่ม', 27, 'ชาย')\n",
      "('0026', 'ธิดารัตน์', 'วงศ์เสน', 26, 'หญิง')\n",
      "('0027', 'กรรณิการ์', 'คงอาษา', 25, 'ชาย')\n",
      "('0028', 'แอนนา', 'สมบูรณ์สิงห์', 24, 'ชาย')\n",
      "('0029', 'วริศรา', 'วงเวียน', 23, 'ชาย')\n",
      "('0031', 'ปภัต', 'สำรวม', 40, 'ชาย')\n",
      "('0032', 'พิม', 'แพรว', 12, 'หญิง')\n",
      "('0033', 'มานี', 'มานา', 14, 'ชาย')\n"
     ]
    }
   ],
   "source": [
    "get_viewcustomer()"
   ]
  },
  {
   "cell_type": "markdown",
   "id": "547b92b8",
   "metadata": {},
   "source": [
    "## Delete Customer"
   ]
  },
  {
   "cell_type": "code",
   "execution_count": 259,
   "id": "0e7f41c8",
   "metadata": {
    "scrolled": false
   },
   "outputs": [
    {
     "name": "stdout",
     "output_type": "stream",
     "text": [
      "Customer id = 0030 was deleted\n"
     ]
    }
   ],
   "source": [
    "delete_Customer('0030') #('0030', 'ภัสสร', 'ศรีน้ำเงิน', 17, 'ชาย'  )"
   ]
  },
  {
   "cell_type": "code",
   "execution_count": 273,
   "id": "2666ccd3",
   "metadata": {},
   "outputs": [
    {
     "name": "stdout",
     "output_type": "stream",
     "text": [
      "Last customer id: 0033\n",
      "customer_id 4 digit:0030\n",
      "Customer_firstname:ภัสสร\n",
      "Customer_lastname:ศรีน้ำเงิน\n",
      "Customer_age:17\n",
      "Customer_gender:ชาย\n",
      "Add new customer 0030 or ภัสสร is successful\n"
     ]
    }
   ],
   "source": [
    "add_customer()"
   ]
  },
  {
   "cell_type": "markdown",
   "id": "add18e90",
   "metadata": {},
   "source": [
    "## Delete Store"
   ]
  },
  {
   "cell_type": "code",
   "execution_count": 211,
   "id": "9d0dc53b",
   "metadata": {},
   "outputs": [],
   "source": [
    "def delete_store(store_id):\n",
    "    cursor = cnxn.cursor()\n",
    "    cursor.execute(\"DELETE FROM Store WHERE store_id =?;\",(store_id) )\n",
    "    cnxn.commit() \n",
    "    print('Store id =',store_id,'was deleted')"
   ]
  },
  {
   "cell_type": "code",
   "execution_count": 216,
   "id": "e4a03f0c",
   "metadata": {
    "scrolled": false
   },
   "outputs": [
    {
     "name": "stdout",
     "output_type": "stream",
     "text": [
      "('C001', \"Coffee's เซ็นทรัลพระราม3\", 'กรุงเทพมหานคร')\n",
      "('C002', \"Coffee's เซ็นทรัลพระราม9\", 'กรุงเทพมหานคร')\n",
      "('C003', \"Coffee's Centralนครราชสีมา\", 'นครราชสีมา')\n",
      "('C004', \"Coffee's เซ็นทรัลศรีราชา\", 'ชลบุรี')\n",
      "('C005', \"Coffee's เซ็นทรัลอยุธยา\", 'พระนครศรีอยุธยา')\n",
      "('C006', \"Coffee's Centralมหาชัย\", 'สมุทรสาคร')\n",
      "('C007', \"Coffee's เซ็นทรัลเชียงใหม่\", 'เชียงใหม่')\n",
      "('C008', \"Coffee's UnitedCenter(สีลม)\", 'กรุงเทพมหานคร')\n",
      "('C009', \"Coffee's สยามเซ็นเตอร์\", 'กรุงเทพมหานคร')\n",
      "('C010', \"Coffee's เซ็นจูรี่อนุสาวรีย์\", 'กรุงเทพมหานคร')\n",
      "('C011', \"Coffee's CentralWestgateบางใหญ่\", 'กรุงเทพมหานคร')\n",
      "('C012', \"Coffee's เซ็นทรัลเวิลด์\", 'กรุงเทพมหานคร')\n",
      "('C013', \"Coffee's CenterOneอนุสาวรีย์ชัยสมรภูมิ\", 'กรุงเทพมหานคร')\n",
      "('C014', \"Coffee's Centralสุราษฎร์ธานี\", 'สุราษฎร์ธานี')\n",
      "('C015', \"Coffee's Centralนครศรีธรรมราช\", 'นครศรีธรรมราช')\n",
      "('C016', \"Coffee's เซ็นทรัลลาดพร้าวชั้นG\", 'กรุงเทพมหานคร')\n",
      "('C017', \"Coffee's บิ๊กซีศรีนครินทร์\", 'สมุทรปราการ')\n",
      "('C018', \"Coffee's บิ๊กซีพัทยาใต้\", 'ชลบุรี')\n",
      "('C019', \"Coffee's บิ๊กซีอยุธยา\", 'พระนครศรีอยุธยา')\n",
      "('C020', \"Coffee's บิ๊กซีสุขาภิบาล3\", 'กรุงเทพมหานคร')\n",
      "('C021', \"Coffee's บิ๊กซีพระราม4\", 'กรุงเทพมหานคร')\n",
      "('C022', \"Coffee's บิ๊กซีราชดำริ\", 'กรุงเทพมหานคร')\n",
      "('C023', \"Coffee's บิ๊กซีนครปฐม\", 'นครปฐม')\n",
      "('C024', \"Coffe's บิ๊กซีมหาชัย\", 'สมุทรสาคร')\n",
      "('C025', \"Coffee's บิ๊กซีสุขาภิบาล5\", 'กรุงเทพมหานคร')\n",
      "('C026', \"Coffee's บิ๊กซีเชียงราย2\", 'เชียงราย')\n",
      "('C027', \"Coffee's บิ๊กซีบางพลี\", 'สมุทรปราการ')\n",
      "('C028', \"Coffee's บิ๊กซีเพชรเกษมextra\", 'กรุงเทพมหานคร')\n",
      "('C029', \"Coffee's ทาวน์เซ็นเตอร์บิ๊กซีหัวหมาก\", 'กรุงเทพมหานคร')\n",
      "('C030', \"Coffee's บิ๊กซีบางใหญ่\", 'นนทบุรี')\n",
      "('C031', \"Coffee's บิ๊กซีบางซื่อ\", 'กรุงเทพมหานคร')\n"
     ]
    }
   ],
   "source": [
    "get_viewstore()"
   ]
  },
  {
   "cell_type": "code",
   "execution_count": 213,
   "id": "cac76879",
   "metadata": {
    "scrolled": true
   },
   "outputs": [
    {
     "name": "stdout",
     "output_type": "stream",
     "text": [
      "Store id = C030 was deleted\n"
     ]
    }
   ],
   "source": [
    "delete_store('C030') #('C030', \"Coffee's บิ๊กซีบางใหญ่\", 'นนทบุรี')"
   ]
  },
  {
   "cell_type": "code",
   "execution_count": 272,
   "id": "b3cdb5fd",
   "metadata": {},
   "outputs": [
    {
     "name": "stdout",
     "output_type": "stream",
     "text": [
      "Last store id: C031\n"
     ]
    },
    {
     "ename": "KeyboardInterrupt",
     "evalue": "Interrupted by user",
     "output_type": "error",
     "traceback": [
      "\u001b[1;31m---------------------------------------------------------------------------\u001b[0m",
      "\u001b[1;31mKeyboardInterrupt\u001b[0m                         Traceback (most recent call last)",
      "\u001b[1;32m~\\AppData\\Local\\Temp/ipykernel_22224/1169663057.py\u001b[0m in \u001b[0;36m<module>\u001b[1;34m\u001b[0m\n\u001b[1;32m----> 1\u001b[1;33m \u001b[0madd_store\u001b[0m\u001b[1;33m(\u001b[0m\u001b[1;33m)\u001b[0m\u001b[1;33m\u001b[0m\u001b[1;33m\u001b[0m\u001b[0m\n\u001b[0m",
      "\u001b[1;32m~\\AppData\\Local\\Temp/ipykernel_22224/2370165166.py\u001b[0m in \u001b[0;36madd_store\u001b[1;34m()\u001b[0m\n\u001b[0;32m      4\u001b[0m     \u001b[0mrow\u001b[0m \u001b[1;33m=\u001b[0m \u001b[0mcursor\u001b[0m\u001b[1;33m.\u001b[0m\u001b[0mfetchone\u001b[0m\u001b[1;33m(\u001b[0m\u001b[1;33m)\u001b[0m\u001b[1;33m\u001b[0m\u001b[1;33m\u001b[0m\u001b[0m\n\u001b[0;32m      5\u001b[0m     \u001b[0mprint\u001b[0m\u001b[1;33m(\u001b[0m\u001b[1;34m'Last store id:'\u001b[0m\u001b[1;33m,\u001b[0m\u001b[0mrow\u001b[0m\u001b[1;33m[\u001b[0m\u001b[1;36m0\u001b[0m\u001b[1;33m]\u001b[0m\u001b[1;33m)\u001b[0m\u001b[1;33m\u001b[0m\u001b[1;33m\u001b[0m\u001b[0m\n\u001b[1;32m----> 6\u001b[1;33m     \u001b[0mstore_id\u001b[0m\u001b[1;33m=\u001b[0m\u001b[0minput\u001b[0m\u001b[1;33m(\u001b[0m\u001b[1;34m'store_id 4 digit Cxxx:'\u001b[0m\u001b[1;33m)\u001b[0m\u001b[1;33m\u001b[0m\u001b[1;33m\u001b[0m\u001b[0m\n\u001b[0m\u001b[0;32m      7\u001b[0m     \u001b[0mstore_name\u001b[0m\u001b[1;33m=\u001b[0m\u001b[0minput\u001b[0m\u001b[1;33m(\u001b[0m\u001b[1;34m'store_name:'\u001b[0m\u001b[1;33m)\u001b[0m\u001b[1;33m\u001b[0m\u001b[1;33m\u001b[0m\u001b[0m\n\u001b[0;32m      8\u001b[0m     \u001b[0mStore_province\u001b[0m\u001b[1;33m=\u001b[0m\u001b[0minput\u001b[0m\u001b[1;33m(\u001b[0m\u001b[1;34m'Store_province:'\u001b[0m\u001b[1;33m)\u001b[0m\u001b[1;33m\u001b[0m\u001b[1;33m\u001b[0m\u001b[0m\n",
      "\u001b[1;32m~\\anaconda3\\lib\\site-packages\\ipykernel\\kernelbase.py\u001b[0m in \u001b[0;36mraw_input\u001b[1;34m(self, prompt)\u001b[0m\n\u001b[0;32m   1004\u001b[0m                 \u001b[1;34m\"raw_input was called, but this frontend does not support input requests.\"\u001b[0m\u001b[1;33m\u001b[0m\u001b[1;33m\u001b[0m\u001b[0m\n\u001b[0;32m   1005\u001b[0m             )\n\u001b[1;32m-> 1006\u001b[1;33m         return self._input_request(\n\u001b[0m\u001b[0;32m   1007\u001b[0m             \u001b[0mstr\u001b[0m\u001b[1;33m(\u001b[0m\u001b[0mprompt\u001b[0m\u001b[1;33m)\u001b[0m\u001b[1;33m,\u001b[0m\u001b[1;33m\u001b[0m\u001b[1;33m\u001b[0m\u001b[0m\n\u001b[0;32m   1008\u001b[0m             \u001b[0mself\u001b[0m\u001b[1;33m.\u001b[0m\u001b[0m_parent_ident\u001b[0m\u001b[1;33m[\u001b[0m\u001b[1;34m\"shell\"\u001b[0m\u001b[1;33m]\u001b[0m\u001b[1;33m,\u001b[0m\u001b[1;33m\u001b[0m\u001b[1;33m\u001b[0m\u001b[0m\n",
      "\u001b[1;32m~\\anaconda3\\lib\\site-packages\\ipykernel\\kernelbase.py\u001b[0m in \u001b[0;36m_input_request\u001b[1;34m(self, prompt, ident, parent, password)\u001b[0m\n\u001b[0;32m   1049\u001b[0m             \u001b[1;32mexcept\u001b[0m \u001b[0mKeyboardInterrupt\u001b[0m\u001b[1;33m:\u001b[0m\u001b[1;33m\u001b[0m\u001b[1;33m\u001b[0m\u001b[0m\n\u001b[0;32m   1050\u001b[0m                 \u001b[1;31m# re-raise KeyboardInterrupt, to truncate traceback\u001b[0m\u001b[1;33m\u001b[0m\u001b[1;33m\u001b[0m\u001b[0m\n\u001b[1;32m-> 1051\u001b[1;33m                 \u001b[1;32mraise\u001b[0m \u001b[0mKeyboardInterrupt\u001b[0m\u001b[1;33m(\u001b[0m\u001b[1;34m\"Interrupted by user\"\u001b[0m\u001b[1;33m)\u001b[0m \u001b[1;32mfrom\u001b[0m \u001b[1;32mNone\u001b[0m\u001b[1;33m\u001b[0m\u001b[1;33m\u001b[0m\u001b[0m\n\u001b[0m\u001b[0;32m   1052\u001b[0m             \u001b[1;32mexcept\u001b[0m \u001b[0mException\u001b[0m\u001b[1;33m:\u001b[0m\u001b[1;33m\u001b[0m\u001b[1;33m\u001b[0m\u001b[0m\n\u001b[0;32m   1053\u001b[0m                 \u001b[0mself\u001b[0m\u001b[1;33m.\u001b[0m\u001b[0mlog\u001b[0m\u001b[1;33m.\u001b[0m\u001b[0mwarning\u001b[0m\u001b[1;33m(\u001b[0m\u001b[1;34m\"Invalid Message:\"\u001b[0m\u001b[1;33m,\u001b[0m \u001b[0mexc_info\u001b[0m\u001b[1;33m=\u001b[0m\u001b[1;32mTrue\u001b[0m\u001b[1;33m)\u001b[0m\u001b[1;33m\u001b[0m\u001b[1;33m\u001b[0m\u001b[0m\n",
      "\u001b[1;31mKeyboardInterrupt\u001b[0m: Interrupted by user"
     ]
    }
   ],
   "source": [
    "add_store()"
   ]
  },
  {
   "cell_type": "markdown",
   "id": "fcf0d80a",
   "metadata": {},
   "source": [
    "## Delete Menu"
   ]
  },
  {
   "cell_type": "code",
   "execution_count": 235,
   "id": "65045f2e",
   "metadata": {
    "scrolled": true
   },
   "outputs": [
    {
     "name": "stdout",
     "output_type": "stream",
     "text": [
      "('0001', 'Espresso', 35, 20, 'Hot', 'Coffee')\n",
      "('0002', 'Espresso', 55, 29, 'Cold', 'Coffee')\n",
      "('0003', 'Espresso', 60, 30, 'Frappe', 'Coffee')\n",
      "('0004', 'Espresso Con Panna', 45, 25, 'Hot', 'Coffee')\n",
      "('0005', 'Espresso Con Panna', 65, 30, 'Cold', 'Coffee')\n",
      "('0006', 'Espresso Con Panna', 70, 35, 'Frappe', 'Coffee')\n",
      "('0007', 'Americano', 50, 30, 'Hot', 'Coffee')\n",
      "('0008', 'Americano', 55, 35, 'Cold', 'Coffee')\n",
      "('0009', 'Americano', 60, 40, 'Frappe', 'Coffee')\n",
      "('0010', 'Long Black', 50, 30, 'Hot', 'Coffee')\n",
      "('0011', 'Long Black', 55, 35, 'Cold', 'Coffee')\n",
      "('0012', 'Long Black', 60, 40, 'Frappe', 'Coffee')\n",
      "('0013', 'Latte', 50, 30, 'Hot', 'Coffee')\n",
      "('0014', 'Latte', 65, 35, 'Cold', 'Coffee')\n",
      "('0015', 'Latte', 70, 40, 'Frappe', 'Coffee')\n",
      "('0016', 'Piccolo', 50, 20, 'Hot', 'Coffee')\n",
      "('0017', 'Piccolo', 55, 25, 'Cold', 'Coffee')\n",
      "('0018', 'Piccolo', 60, 30, 'Frappe', 'Coffee')\n",
      "('0019', 'Cappuccino', 45, 25, 'Hot', 'Coffee')\n",
      "('0020', 'Cappuccino', 60, 30, 'Cold', 'Coffee')\n",
      "('0021', 'Cappuccino', 65, 35, 'Frappe', 'Coffee')\n",
      "('0022', 'Mocha', 50, 25, 'Hot', 'Coffee')\n",
      "('0023', 'Mocha', 60, 30, 'Cold', 'Coffee')\n",
      "('0024', 'Mocha', 70, 35, 'Frappe', 'Coffee')\n",
      "('0025', 'White Mocha', 55, 30, 'Hot', 'Coffee')\n",
      "('0026', 'White Mocha', 65, 35, 'Cold', 'Coffee')\n",
      "('0027', 'White Mocha', 75, 40, 'Frappe', 'Coffee')\n",
      "('0028', 'Macchiato', 50, 25, 'Hot', 'Coffee')\n",
      "('0029', 'Macchiato', 60, 30, 'Cold', 'Coffee')\n",
      "('0030', 'Macchiato', 70, 35, 'Frappe', 'Coffee')\n",
      "('0031', 'Caramel Macchiato', 55, 30, 'Hot', 'Coffee')\n",
      "('0032', 'Caramel Macchiato', 65, 35, 'Cold', 'Coffee')\n",
      "('0033', 'Caramel Macchiato', 75, 40, 'Frappe', 'Coffee')\n",
      "('0034', 'Italian soda', 50, 20, 'Cold', 'Coffee')\n",
      "('0035', 'Chocolate', 45, 25, 'Hot', 'Coffee')\n",
      "('0036', 'Chocolate', 50, 30, 'Cold', 'Coffee')\n",
      "('0037', 'Chocolate', 55, 35, 'Frappe', 'Coffee')\n",
      "('0038', 'Dark Chocolate', 50, 30, 'Hot', 'Milk-Chocolate')\n",
      "('0039', 'Dark Chocolate', 55, 35, 'Cold', 'Milk-Chocolate')\n",
      "('0040', 'Dark Chocolate', 60, 40, 'Frappe', 'Milk-Chocolate')\n",
      "('0042', 'Green Tea', 40, 15, 'Hot', 'Tea')\n",
      "('0043', 'Green Tea', 45, 20, 'Cold', 'Tea')\n",
      "('0044', 'Green Tea', 50, 25, 'Frappe', 'Tea')\n",
      "('0045', 'Milk Tea', 45, 20, 'Hot', 'Tea')\n",
      "('0046', 'Milk Tea', 50, 25, 'Cold', 'Tea')\n",
      "('0047', 'Milk Tea', 55, 30, 'Frappe', 'Tea')\n",
      "('0048', 'Thai Tea', 45, 20, 'Hot', 'Tea')\n",
      "('0049', 'Thai Tea', 50, 25, 'Cold', 'Tea')\n",
      "('0050', 'Thai Tea', 55, 30, 'Frappe', 'Tea')\n",
      "('0051', 'Mango Sticky Rice', 100, 60, 'Dessert', 'Dessert')\n",
      "('0052', 'Strawberry Pancake', 150, 90, 'Dessert', 'Dessert')\n",
      "('0053', 'Choc Banana Pancake', 155, 80, 'Dessert', 'Dessert')\n",
      "('0054', 'Macaron', 120, 80, 'Dessert', 'Dessert')\n",
      "('0055', 'Pudding', 150, 100, 'Dessert', 'Dessert')\n",
      "('0056', 'Butter Cake', 120, 100, 'Dessert', 'Dessert')\n",
      "('0057', 'Whole Wheat Bread', 150, 120, 'Dessert', 'Dessert')\n",
      "('0058', 'strawberry cheese pie', 120, 80, 'Dessert', 'Dessert')\n",
      "('0059', 'Blueberry Cheese Pie', 150, 100, 'Dessert', 'Dessert')\n",
      "('0060', 'Honey Toast', 150, 80, 'Dessert', 'Dessert')\n",
      "('0061', 'Toast', 25, 20, 'Dessert', 'Dessert')\n",
      "('0062', 'Waffle', 50, 30, 'Dessert', 'Dessert')\n",
      "('0063', 'Cheese cake', 125, 80, 'Dessert', 'Dessert')\n",
      "('0064', 'Custard Cake', 60, 40, 'Dessert', 'Dessert')\n",
      "('0065', 'Cookie', 150, 90, 'Dessert', 'Dessert')\n",
      "('0066', 'Brownie', 80, 50, 'Dessert', 'Dessert')\n",
      "('0067', 'Pancake', 40, 20, 'Dessert', 'Dessert')\n",
      "('0068', 'Banana Cake', 40, 20, 'Dessert', 'Dessert')\n",
      "('0069', 'Muffin', 90, 30, 'Dessert', 'Dessert')\n",
      "('0070', 'Roll Cake', 50, 30, 'Dessert', 'Dessert')\n",
      "('0071', 'Basque Cheesecake', 250, 100, 'Dessert', 'Dessert')\n",
      "('0074', 'Apple', 90, 30, 'cold', 'Tea')\n",
      "('0075', 'Orange', 70, 30, 'Cold', 'Tea')\n",
      "('0076', 'Peach', 50, 25, 'Hot', 'Tea')\n"
     ]
    }
   ],
   "source": [
    "get_viewmenu()"
   ]
  },
  {
   "cell_type": "code",
   "execution_count": 239,
   "id": "e604ffb3",
   "metadata": {
    "scrolled": true
   },
   "outputs": [
    {
     "name": "stdout",
     "output_type": "stream",
     "text": [
      "Menu id = 0076 was deleted\n"
     ]
    }
   ],
   "source": [
    "delete_Menuid('0076') #('0073', 'Mango', 80, 60, 'Frappe', 'Smoothies')\n",
    " "
   ]
  },
  {
   "cell_type": "code",
   "execution_count": 240,
   "id": "b2d4a4d1",
   "metadata": {
    "scrolled": true
   },
   "outputs": [
    {
     "name": "stdout",
     "output_type": "stream",
     "text": [
      "Last id: 0072\n",
      "Menu_id 4 digit:0073\n",
      "Menu_name:Mango\n",
      "Menu_SellingPrice int:80\n",
      "Menu_cost int:60\n",
      "Menu_Type Drink: Hot/Cold/Frappe or Dessert:Frappe\n",
      "Coffee/Milk-Chocolate/Smoothies/Tea/DessertSmoothies\n",
      "Add menu 0073 or Mango is successful\n"
     ]
    }
   ],
   "source": [
    "add_menu()"
   ]
  },
  {
   "cell_type": "markdown",
   "id": "5e75ccc9",
   "metadata": {},
   "source": [
    "# Analytics"
   ]
  },
  {
   "cell_type": "markdown",
   "id": "c484503a",
   "metadata": {},
   "source": [
    "# View Royalty Customer"
   ]
  },
  {
   "cell_type": "code",
   "execution_count": 261,
   "id": "e69251e0",
   "metadata": {
    "scrolled": false
   },
   "outputs": [
    {
     "name": "stdout",
     "output_type": "stream",
     "text": [
      "('0001', Decimal('5'))\n",
      "('0003', Decimal('3'))\n",
      "('0004', Decimal('3'))\n",
      "('0007', Decimal('3'))\n",
      "('0020', Decimal('2'))\n",
      "('0002', Decimal('2'))\n",
      "('0005', Decimal('2'))\n",
      "('0006', Decimal('2'))\n",
      "('0008', Decimal('2'))\n",
      "('0009', Decimal('2'))\n"
     ]
    }
   ],
   "source": [
    "get_royalty()"
   ]
  },
  {
   "cell_type": "markdown",
   "id": "faad8314",
   "metadata": {},
   "source": [
    "# Promotion for Royalty Customer favorite Menu"
   ]
  },
  {
   "cell_type": "code",
   "execution_count": 262,
   "id": "64748249",
   "metadata": {
    "scrolled": true
   },
   "outputs": [
    {
     "name": "stdout",
     "output_type": "stream",
     "text": [
      "customer menu\n",
      "('0002', 'Espresso', 1)\n",
      "('0001', 'Espresso', 1)\n",
      "('0004', 'Espresso Con Panna', 1)\n",
      "0003 \n",
      " None\n",
      "customer menu\n",
      "('0004', 'Espresso Con Panna', 2)\n",
      "('0003', 'Espresso', 1)\n",
      "0004 \n",
      " None\n",
      "customer menu\n",
      "('0008', 'Americano', 1)\n",
      "('0007', 'Americano', 1)\n",
      "('0002', 'Espresso', 1)\n",
      "0007 \n",
      " None\n",
      "customer menu\n",
      "('0055', 'Pudding', 1)\n",
      "('0062', 'Waffle', 1)\n",
      "0020 \n",
      " None\n",
      "customer menu\n",
      "('0001', 'Espresso', 1)\n",
      "('0003', 'Espresso', 1)\n",
      "0002 \n",
      " None\n",
      "customer menu\n",
      "('0003', 'Espresso', 1)\n",
      "('0001', 'Espresso', 1)\n",
      "0005 \n",
      " None\n",
      "customer menu\n",
      "('0001', 'Espresso', 1)\n",
      "('0010', 'Long Black', 1)\n",
      "0006 \n",
      " None\n",
      "customer menu\n",
      "('0036', 'Chocolate', 1)\n",
      "('0044', 'Green Tea', 1)\n",
      "0008 \n",
      " None\n",
      "customer menu\n",
      "('0045', 'Milk Tea', 1)\n",
      "('0049', 'Thai Tea', 1)\n",
      "0009 \n",
      " None\n",
      "customer menu\n",
      "('0061', 'Toast', 1)\n",
      "0029 \n",
      " None\n"
     ]
    }
   ],
   "source": [
    "fav_rayalty_menu()"
   ]
  },
  {
   "cell_type": "markdown",
   "id": "7443b809",
   "metadata": {},
   "source": [
    "# Top sale order by store"
   ]
  },
  {
   "cell_type": "code",
   "execution_count": 263,
   "id": "cf7ba834",
   "metadata": {
    "scrolled": false
   },
   "outputs": [
    {
     "name": "stdout",
     "output_type": "stream",
     "text": [
      "Revenue by Store\n",
      "('C004', \"Coffee's เซ็นทรัลศรีราชา\", 846.0)\n",
      "('C002', \"Coffee's เซ็นทรัลพระราม9\", 477.0)\n",
      "('C005', \"Coffee's เซ็นทรัลอยุธยา\", 396.0)\n",
      "('C001', \"Coffee's เซ็นทรัลพระราม3\", 301.5)\n",
      "('C006', \"Coffee's Centralมหาชัย\", 243.0)\n",
      "('C003', \"Coffee's Centralนครราชสีมา\", 175.5)\n",
      "('C023', \"Coffee's บิ๊กซีนครปฐม\", 135.0)\n",
      "('C022', \"Coffee's บิ๊กซีราชดำริ\", 130.5)\n",
      "('C020', \"Coffee's บิ๊กซีสุขาภิบาล3\", 54.0)\n"
     ]
    }
   ],
   "source": [
    "view_topsale_bystore()"
   ]
  },
  {
   "cell_type": "markdown",
   "id": "ba22c429",
   "metadata": {},
   "source": [
    "# Best Seller Menu "
   ]
  },
  {
   "cell_type": "code",
   "execution_count": 264,
   "id": "4d2870df",
   "metadata": {},
   "outputs": [],
   "source": [
    "def view_topsale_bymenu():\n",
    "    cursor = cnxn.cursor()\n",
    "    cursor.execute(\"SELECT order_record.menu_id,menu.menu_name,menu.menu_type,sum(quantity) as count FROM order_record  \\\n",
    "    INNER JOIN menu ON menu.menu_ID=order_record.menu_id \\\n",
    "    GROUP BY order_record.menu_id ORDER BY 4 DESC LIMIT 10\")\n",
    "    row = cursor.fetchone()\n",
    "    print (\"Best Seller Menu :\")\n",
    "    while row:        \n",
    "        print (row) \n",
    "        row = cursor.fetchone()\n",
    "\n",
    "  "
   ]
  },
  {
   "cell_type": "code",
   "execution_count": 265,
   "id": "7eb79fb2",
   "metadata": {
    "scrolled": false
   },
   "outputs": [
    {
     "name": "stdout",
     "output_type": "stream",
     "text": [
      "Best Seller Menu :\n",
      "('0001', 'Espresso', 'Hot', Decimal('11'))\n",
      "('0004', 'Espresso Con Panna', 'Hot', Decimal('10'))\n",
      "('0003', 'Espresso', 'Frappe', Decimal('6'))\n",
      "('0002', 'Espresso', 'Cold', Decimal('4'))\n",
      "('0010', 'Long Black', 'Hot', Decimal('1'))\n",
      "('0008', 'Americano', 'Cold', Decimal('1'))\n",
      "('0007', 'Americano', 'Hot', Decimal('1'))\n",
      "('0036', 'Chocolate', 'Cold', Decimal('1'))\n",
      "('0044', 'Green Tea', 'Frappe', Decimal('1'))\n",
      "('0045', 'Milk Tea', 'Hot', Decimal('1'))\n"
     ]
    }
   ],
   "source": [
    "view_topsale_bymenu()"
   ]
  },
  {
   "cell_type": "markdown",
   "id": "928e89ca",
   "metadata": {},
   "source": [
    "# Top profit by Store"
   ]
  },
  {
   "cell_type": "code",
   "execution_count": 266,
   "id": "95044a15",
   "metadata": {},
   "outputs": [],
   "source": [
    "def view_topprofit_bystore():\n",
    "    cursor = cnxn.cursor()\n",
    "    cursor.execute(\"SELECT order_record.Store_id,store.Store_name,sum(profit) as Rev FROM order_record  \\\n",
    "    INNER JOIN store ON store.Store_ID=order_record.Store_id \\\n",
    "    GROUP BY order_record.Store_id ORDER BY 3 DESC\")\n",
    "    row = cursor.fetchone()\n",
    "    print (\"Profit by Store\")\n",
    "    while row:        \n",
    "        print (row) \n",
    "        row = cursor.fetchone()\n"
   ]
  },
  {
   "cell_type": "code",
   "execution_count": 267,
   "id": "9208a159",
   "metadata": {},
   "outputs": [
    {
     "name": "stdout",
     "output_type": "stream",
     "text": [
      "Profit by Store\n",
      "('C004', \"Coffee's เซ็นทรัลศรีราชา\", 306.0)\n",
      "('C002', \"Coffee's เซ็นทรัลพระราม9\", 187.0)\n",
      "('C001', \"Coffee's เซ็นทรัลพระราม3\", 111.5)\n",
      "('C005', \"Coffee's เซ็นทรัลอยุธยา\", 86.0)\n",
      "('C003', \"Coffee's Centralนครราชสีมา\", 75.5)\n",
      "('C022', \"Coffee's บิ๊กซีราชดำริ\", 60.5)\n",
      "('C023', \"Coffee's บิ๊กซีนครปฐม\", 60.0)\n",
      "('C006', \"Coffee's Centralมหาชัย\", 43.0)\n",
      "('C020', \"Coffee's บิ๊กซีสุขาภิบาล3\", 24.0)\n"
     ]
    }
   ],
   "source": [
    "view_topprofit_bystore()"
   ]
  },
  {
   "cell_type": "code",
   "execution_count": 268,
   "id": "8520b6b2",
   "metadata": {},
   "outputs": [],
   "source": [
    "def view_menu_bystore():\n",
    "    cursor = cnxn.cursor() \n",
    "    cursor.execute(\"SELECT o.Store_id, m.menu_name , m.menu_type  from order_record as o INNER JOIN menu as m \\\n",
    "                   on m.menu_id = o.menu_id order by store_id \")\n",
    "    \n",
    "    row = cursor.fetchone()\n",
    "    print (\"Menu by Store\")\n",
    "    while row:        \n",
    "        print (row) \n",
    "        row = cursor.fetchone()"
   ]
  },
  {
   "cell_type": "code",
   "execution_count": 269,
   "id": "1355379e",
   "metadata": {
    "scrolled": true
   },
   "outputs": [
    {
     "name": "stdout",
     "output_type": "stream",
     "text": [
      "Menu by Store\n",
      "('C001', 'Espresso', 'Hot')\n",
      "('C001', 'Espresso', 'Hot')\n",
      "('C001', 'Espresso', 'Hot')\n",
      "('C001', 'Espresso', 'Hot')\n",
      "('C001', 'Espresso Con Panna', 'Hot')\n",
      "('C002', 'Espresso Con Panna', 'Hot')\n",
      "('C002', 'Espresso Con Panna', 'Hot')\n",
      "('C002', 'Espresso', 'Hot')\n",
      "('C002', 'Espresso', 'Hot')\n",
      "('C002', 'Long Black', 'Hot')\n",
      "('C002', 'Americano', 'Cold')\n",
      "('C002', 'Americano', 'Hot')\n",
      "('C002', 'Espresso', 'Cold')\n",
      "('C002', 'Espresso', 'Frappe')\n",
      "('C003', 'Chocolate', 'Cold')\n",
      "('C003', 'Green Tea', 'Frappe')\n",
      "('C003', 'Milk Tea', 'Hot')\n",
      "('C003', 'Thai Tea', 'Cold')\n",
      "('C004', 'Choc Banana Pancake', 'Dessert')\n",
      "('C004', 'Pudding', 'Dessert')\n",
      "('C004', 'Toast', 'Dessert')\n",
      "('C004', 'Mango Sticky Rice', 'Dessert')\n",
      "('C004', 'Espresso Con Panna', 'Hot')\n",
      "('C004', 'Espresso', 'Frappe')\n",
      "('C004', 'Strawberry Pancake', 'Dessert')\n",
      "('C005', 'Waffle', 'Dessert')\n",
      "('C005', 'Macaron', 'Dessert')\n",
      "('C005', 'Whole Wheat Bread', 'Dessert')\n",
      "('C005', 'strawberry cheese pie', 'Dessert')\n",
      "('C006', 'Butter Cake', 'Dessert')\n",
      "('C006', 'Blueberry Cheese Pie', 'Dessert')\n",
      "('C020', 'Espresso', 'Frappe')\n",
      "('C022', 'Espresso', 'Cold')\n",
      "('C022', 'Espresso', 'Hot')\n",
      "('C023', 'Espresso Con Panna', 'Hot')\n",
      "('C023', 'Espresso Con Panna', 'Hot')\n",
      "('C023', 'Espresso', 'Cold')\n"
     ]
    }
   ],
   "source": [
    "view_menu_bystore()"
   ]
  },
  {
   "cell_type": "markdown",
   "id": "542a4b92",
   "metadata": {},
   "source": [
    "# ช่วงอายุของลูกค้า"
   ]
  },
  {
   "cell_type": "code",
   "execution_count": 270,
   "id": "5194c189",
   "metadata": {},
   "outputs": [],
   "source": [
    "def view_customer_agecount():\n",
    "    cursor = cnxn.cursor()\n",
    "    cursor.execute(\"SELECT customer_age , count(customer_age) as count \\\n",
    "                   from customer group by customer_age order by  count desc , customer_age \")\n",
    "    row = cursor.fetchone()\n",
    "    print (\"ช่วงอายุของลูกค้า\")\n",
    "    while row:        \n",
    "        print (row) \n",
    "        row = cursor.fetchone()  "
   ]
  },
  {
   "cell_type": "code",
   "execution_count": 271,
   "id": "e815e372",
   "metadata": {
    "scrolled": false
   },
   "outputs": [
    {
     "name": "stdout",
     "output_type": "stream",
     "text": [
      "ช่วงอายุของลูกค้า\n",
      "(14, 2)\n",
      "(21, 2)\n",
      "(23, 2)\n",
      "(24, 2)\n",
      "(25, 2)\n",
      "(26, 2)\n",
      "(27, 2)\n",
      "(28, 2)\n",
      "(29, 2)\n",
      "(30, 2)\n",
      "(31, 2)\n",
      "(34, 2)\n",
      "(37, 2)\n",
      "(0, 1)\n",
      "(12, 1)\n",
      "(17, 1)\n",
      "(19, 1)\n",
      "(20, 1)\n",
      "(22, 1)\n",
      "(40, 1)\n"
     ]
    }
   ],
   "source": [
    "view_customer_agecount()"
   ]
  },
  {
   "cell_type": "code",
   "execution_count": null,
   "id": "da8fe999",
   "metadata": {},
   "outputs": [],
   "source": []
  }
 ],
 "metadata": {
  "kernelspec": {
   "display_name": "Python 3 (ipykernel)",
   "language": "python",
   "name": "python3"
  },
  "language_info": {
   "codemirror_mode": {
    "name": "ipython",
    "version": 3
   },
   "file_extension": ".py",
   "mimetype": "text/x-python",
   "name": "python",
   "nbconvert_exporter": "python",
   "pygments_lexer": "ipython3",
   "version": "3.9.7"
  }
 },
 "nbformat": 4,
 "nbformat_minor": 5
}
